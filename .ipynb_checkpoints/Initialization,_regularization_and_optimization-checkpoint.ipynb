{
  "nbformat": 4,
  "nbformat_minor": 0,
  "metadata": {
    "colab": {
      "provenance": []
    },
    "kernelspec": {
      "name": "python3",
      "display_name": "Python 3"
    },
    "language_info": {
      "name": "python"
    }
  },
  "cells": [
    {
      "cell_type": "markdown",
      "source": [
        "**End to end neural net practice**\n",
        "\n",
        "###Objectives:\n",
        "1.   Difference between initialization values\n",
        "2.   Add regularization to reduce overfitting\n",
        "3.   Optimize gradient descent using momentum, RMS prop and ADAM\n",
        "\n"
      ],
      "metadata": {
        "id": "nkOHIiS0z5Xw"
      }
    },
    {
      "cell_type": "code",
      "execution_count": null,
      "metadata": {
        "id": "g_FhnN80zrEl"
      },
      "outputs": [],
      "source": [
        "import numpy as np\n",
        "import matplotlib.pyplot as plt\n",
        "import sklearn\n",
        "import sklearn.datasets\n",
        "\n",
        "%matplotlib inline\n",
        "plt.rcParams['figure.figsize'] = (7.0, 4.0)\n",
        "plt.rcParams['figure.interpolation'] = 'nearest'\n",
        "plt.rcParams['image.cmap'] = 'gray'\n",
        "\n",
        "X_train, Y_train, X_test, Y_test = load_data()"
      ]
    },
    {
      "cell_type": "markdown",
      "source": [
        "###Functions"
      ],
      "metadata": {
        "id": "ZV0seELW1I5M"
      }
    },
    {
      "cell_type": "code",
      "source": [
        "def load_data():\n",
        "\n",
        "\n",
        "def initialize_parameters(layer_dims, type=\"random\"):\n",
        "  if type === 'random':\n",
        "\n",
        "\n",
        "def sigmoid(Z):\n",
        "  1/1+e**Z\n",
        "\n",
        "def relu(Z):\n",
        "  max(0, Z)\n",
        "\n",
        "def relu_backwards(dZ):\n",
        "  max(0, dZ)\n",
        "\n",
        "def sigmoid_backwards(dZ):\n",
        "  1/1 + e**dZ\n",
        "\n",
        "def calculate_cost(AL, Y):\n",
        "  J = -yloga - (1-y)log(1-a)\n",
        "\n",
        "def update_parameters(parameters, grads, learning_rate=0.01):\n",
        "  L = parameters//2\n",
        "  for l in range(1, L):\n",
        "    parameters['W' +  str(l)] = learning_rate * grads['dW' + str(l)]\n",
        "    parameters['b' +  str(l)] = learning_rate * grads['db' + str(l)]\n",
        "  return parameters\n"
      ],
      "metadata": {
        "id": "cbT1HmNT1L_-"
      },
      "execution_count": null,
      "outputs": []
    },
    {
      "cell_type": "markdown",
      "source": [
        "##Forward pass"
      ],
      "metadata": {
        "id": "u06q9reI0mXI"
      }
    },
    {
      "cell_type": "code",
      "source": [
        "def forward_pass(X, parameters):\n"
      ],
      "metadata": {
        "id": "_uxBDMmx03xu"
      },
      "execution_count": null,
      "outputs": []
    },
    {
      "cell_type": "markdown",
      "source": [
        "###Backward propagation"
      ],
      "metadata": {
        "id": "mHVYp_wy0p9D"
      }
    },
    {
      "cell_type": "code",
      "source": [
        "def backward_prop(AL, Y, cache):"
      ],
      "metadata": {
        "id": "43SBZelx024A"
      },
      "execution_count": null,
      "outputs": []
    },
    {
      "cell_type": "markdown",
      "source": [
        "###Model"
      ],
      "metadata": {
        "id": "2IB-HCSu0zX5"
      }
    },
    {
      "cell_type": "code",
      "source": [
        "def nn_model(X, Y, layer_dims, learning_rate=1.2, iterations=1000, initialization=\"random\"):\n",
        "  parameters = initialize_parameters(layer_dims)\n",
        "  for iter in range(iterations):\n",
        "    AL, cache = forward_pass(X, parameters)\n",
        "    cost = calculate_cost(AL, Y)\n",
        "    grads = backward_prop(AL, Y, cache)\n",
        "    parameters = update_parameters(parameters, grads, learning_rate)\n"
      ],
      "metadata": {
        "id": "TQkzSwQ_0pdF"
      },
      "execution_count": null,
      "outputs": []
    },
    {
      "cell_type": "markdown",
      "source": [
        "###Trigger"
      ],
      "metadata": {
        "id": "WUoivY7404xb"
      }
    },
    {
      "cell_type": "code",
      "source": [],
      "metadata": {
        "id": "qDxXtBRP0611"
      },
      "execution_count": null,
      "outputs": []
    }
  ]
}