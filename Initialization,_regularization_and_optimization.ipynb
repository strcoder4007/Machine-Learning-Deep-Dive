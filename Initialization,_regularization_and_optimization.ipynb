{
 "cells": [
  {
   "cell_type": "markdown",
   "metadata": {
    "id": "nkOHIiS0z5Xw"
   },
   "source": [
    "**End to end neural net practice**\n",
    "\n",
    "###Objectives:\n",
    "1.   Difference between initialization values\n",
    "2.   Add regularization to reduce overfitting\n",
    "3.   Optimize gradient descent using momentum, RMS prop and ADAM\n",
    "\n"
   ]
  },
  {
   "cell_type": "code",
   "execution_count": null,
   "metadata": {
    "id": "g_FhnN80zrEl"
   },
   "outputs": [],
   "source": [
    "import numpy as np\n",
    "import matplotlib.pyplot as plt\n",
    "import sklearn\n",
    "import sklearn.datasets\n",
    "\n",
    "%matplotlib inline\n",
    "plt.rcParams['figure.figsize'] = (7.0, 4.0)\n",
    "plt.rcParams['figure.interpolation'] = 'nearest'\n",
    "plt.rcParams['image.cmap'] = 'gray'\n",
    "\n",
    "X_train, Y_train, X_test, Y_test = load_data()"
   ]
  },
  {
   "cell_type": "markdown",
   "metadata": {
    "id": "ZV0seELW1I5M"
   },
   "source": [
    "###Functions"
   ]
  },
  {
   "cell_type": "code",
   "execution_count": null,
   "metadata": {
    "id": "cbT1HmNT1L_-"
   },
   "outputs": [],
   "source": [
    "def load_data():\n",
    "\n",
    "\n",
    "def initialize_parameters(layer_dims, type=\"random\"):\n",
    "  if type === 'random':\n",
    "\n",
    "\n",
    "def sigmoid(Z):\n",
    "  1/1+e**Z\n",
    "\n",
    "def relu(Z):\n",
    "  max(0, Z)\n",
    "\n",
    "def relu_backwards(dZ):\n",
    "  max(0, dZ)\n",
    "\n",
    "def sigmoid_backwards(dZ):\n",
    "  1/1 + e**dZ\n",
    "\n",
    "def calculate_cost(AL, Y):\n",
    "  J = -yloga - (1-y)log(1-a)\n",
    "\n",
    "def update_parameters(parameters, grads, learning_rate=0.01):\n",
    "  L = parameters//2\n",
    "  for l in range(1, L):\n",
    "    parameters['W' +  str(l)] = learning_rate * grads['dW' + str(l)]\n",
    "    parameters['b' +  str(l)] = learning_rate * grads['db' + str(l)]\n",
    "  return parameters\n"
   ]
  },
  {
   "cell_type": "markdown",
   "metadata": {
    "id": "u06q9reI0mXI"
   },
   "source": [
    "##Forward pass"
   ]
  },
  {
   "cell_type": "code",
   "execution_count": null,
   "metadata": {
    "id": "_uxBDMmx03xu"
   },
   "outputs": [],
   "source": [
    "def forward_pass(X, parameters):\n"
   ]
  },
  {
   "cell_type": "markdown",
   "metadata": {
    "id": "mHVYp_wy0p9D"
   },
   "source": [
    "###Backward propagation"
   ]
  },
  {
   "cell_type": "code",
   "execution_count": null,
   "metadata": {
    "id": "43SBZelx024A"
   },
   "outputs": [],
   "source": [
    "def backward_prop(AL, Y, cache):"
   ]
  },
  {
   "cell_type": "markdown",
   "metadata": {
    "id": "2IB-HCSu0zX5"
   },
   "source": [
    "###Model"
   ]
  },
  {
   "cell_type": "code",
   "execution_count": null,
   "metadata": {
    "id": "TQkzSwQ_0pdF"
   },
   "outputs": [],
   "source": [
    "def nn_model(X, Y, layer_dims, learning_rate=1.2, iterations=1000, initialization=\"random\"):\n",
    "  parameters = initialize_parameters(layer_dims)\n",
    "  for iter in range(iterations):\n",
    "    AL, cache = forward_pass(X, parameters)\n",
    "    cost = calculate_cost(AL, Y)\n",
    "    grads = backward_prop(AL, Y, cache)\n",
    "    parameters = update_parameters(parameters, grads, learning_rate)\n"
   ]
  },
  {
   "cell_type": "markdown",
   "metadata": {
    "id": "WUoivY7404xb"
   },
   "source": [
    "###Trigger"
   ]
  },
  {
   "cell_type": "code",
   "execution_count": null,
   "metadata": {
    "id": "qDxXtBRP0611"
   },
   "outputs": [],
   "source": []
  }
 ],
 "metadata": {
  "colab": {
   "provenance": []
  },
  "kernelspec": {
   "display_name": "Python 3 (ipykernel)",
   "language": "python",
   "name": "python3"
  },
  "language_info": {
   "codemirror_mode": {
    "name": "ipython",
    "version": 3
   },
   "file_extension": ".py",
   "mimetype": "text/x-python",
   "name": "python",
   "nbconvert_exporter": "python",
   "pygments_lexer": "ipython3",
   "version": "3.10.12"
  }
 },
 "nbformat": 4,
 "nbformat_minor": 4
}
