{
 "cells": [
  {
   "cell_type": "markdown",
   "metadata": {},
   "source": [
    "<h2>Residual Network using Keras</h2>"
   ]
  },
  {
   "cell_type": "code",
   "execution_count": 1,
   "metadata": {},
   "outputs": [
    {
     "name": "stderr",
     "output_type": "stream",
     "text": [
      "2024-03-04 20:15:00.795765: E external/local_xla/xla/stream_executor/cuda/cuda_dnn.cc:9261] Unable to register cuDNN factory: Attempting to register factory for plugin cuDNN when one has already been registered\n",
      "2024-03-04 20:15:00.795892: E external/local_xla/xla/stream_executor/cuda/cuda_fft.cc:607] Unable to register cuFFT factory: Attempting to register factory for plugin cuFFT when one has already been registered\n",
      "2024-03-04 20:15:00.876847: E external/local_xla/xla/stream_executor/cuda/cuda_blas.cc:1515] Unable to register cuBLAS factory: Attempting to register factory for plugin cuBLAS when one has already been registered\n",
      "2024-03-04 20:15:01.042268: I tensorflow/core/platform/cpu_feature_guard.cc:182] This TensorFlow binary is optimized to use available CPU instructions in performance-critical operations.\n",
      "To enable the following instructions: AVX2 FMA, in other operations, rebuild TensorFlow with the appropriate compiler flags.\n",
      "2024-03-04 20:15:02.380604: W tensorflow/compiler/tf2tensorrt/utils/py_utils.cc:38] TF-TRT Warning: Could not find TensorRT\n"
     ]
    }
   ],
   "source": [
    "import tensorflow as tf\n",
    "import numpy as np\n",
    "import scipy.misc\n",
    "\n",
    "import h5py\n",
    "\n",
    "from tensorflow.keras.applications.resnet_v2 import ResNet50V2\n",
    "from tensorflow.keras.preprocessing import image\n",
    "from tensorflow.keras.applications.resnet_v2 import preprocess_input, decode_predictions\n",
    "from tensorflow.keras import layers\n",
    "from tensorflow.keras.layers import Input, Add, Dense, Activation, ZeroPadding2D, BatchNormalization, Flatten, Conv2D, AveragePooling2D, MaxPooling2D, GlobalMaxPooling2D\n",
    "from tensorflow.keras.models import Model, load_model\n",
    "from tensorflow.keras.initializers import random_uniform,  glorot_uniform, constant, identity\n",
    "from tensorflow.python.framework.ops import EagerTensor\n",
    "from matplotlib.pyplot import imshow\n",
    "\n",
    "%matplotlib inline"
   ]
  },
  {
   "cell_type": "markdown",
   "metadata": {},
   "source": [
    "<h3>Identity Block</h3>"
   ]
  },
  {
   "cell_type": "code",
   "execution_count": 2,
   "metadata": {},
   "outputs": [],
   "source": [
    "def identity_block(X, f, filters, training=True, initializer=random_uniform):\n",
    "    F1, F2, F3 = filters\n",
    "\n",
    "    X_shortcut = X\n",
    "    cache = []\n",
    "\n",
    "    X = Conv2D(filters=F1, kernel_size=1, strides=(1, 1), padding='valid', kernel_initializer=initializer(seed=0))(X)\n",
    "    X = BatchNormalization(axis=3)(X, training=training)\n",
    "    X = Activation('relu')(X)\n",
    "\n",
    "    X = Conv2D(filters=F2, kernel_size=f, strides=(1, 1), padding='same', kernel_initializer=initializer(seed=0))(X)\n",
    "    X = BatchNormalization(axis=3)(X, training=training)\n",
    "    X = Activation('relu')(X)\n",
    "\n",
    "    X = Conv2D(filters=F3, kernel_size=1, strides=(1, 1), padding='valid', kernel_initializer=initializer(seed=0))(X)\n",
    "    X = BatchNormalization(axis=3)(X, training=training)\n",
    "    # add X_shortcut to the result of last layer\n",
    "    X = Add()([X_shortcut, X])\n",
    "    X = Activation('relu')(X)\n",
    "\n",
    "    return X"
   ]
  },
  {
   "cell_type": "markdown",
   "metadata": {},
   "source": [
    "<h5>Testing Identity Block</h5>"
   ]
  },
  {
   "cell_type": "code",
   "execution_count": 3,
   "metadata": {},
   "outputs": [
    {
     "name": "stderr",
     "output_type": "stream",
     "text": [
      "2024-03-04 20:15:04.731712: I external/local_xla/xla/stream_executor/cuda/cuda_executor.cc:887] could not open file to read NUMA node: /sys/bus/pci/devices/0000:01:00.0/numa_node\n",
      "Your kernel may have been built without NUMA support.\n",
      "2024-03-04 20:15:05.014467: I external/local_xla/xla/stream_executor/cuda/cuda_executor.cc:887] could not open file to read NUMA node: /sys/bus/pci/devices/0000:01:00.0/numa_node\n",
      "Your kernel may have been built without NUMA support.\n",
      "2024-03-04 20:15:05.014525: I external/local_xla/xla/stream_executor/cuda/cuda_executor.cc:887] could not open file to read NUMA node: /sys/bus/pci/devices/0000:01:00.0/numa_node\n",
      "Your kernel may have been built without NUMA support.\n",
      "2024-03-04 20:15:05.016980: I external/local_xla/xla/stream_executor/cuda/cuda_executor.cc:887] could not open file to read NUMA node: /sys/bus/pci/devices/0000:01:00.0/numa_node\n",
      "Your kernel may have been built without NUMA support.\n",
      "2024-03-04 20:15:05.017039: I external/local_xla/xla/stream_executor/cuda/cuda_executor.cc:887] could not open file to read NUMA node: /sys/bus/pci/devices/0000:01:00.0/numa_node\n",
      "Your kernel may have been built without NUMA support.\n",
      "2024-03-04 20:15:05.017066: I external/local_xla/xla/stream_executor/cuda/cuda_executor.cc:887] could not open file to read NUMA node: /sys/bus/pci/devices/0000:01:00.0/numa_node\n",
      "Your kernel may have been built without NUMA support.\n",
      "2024-03-04 20:15:05.230832: I external/local_xla/xla/stream_executor/cuda/cuda_executor.cc:887] could not open file to read NUMA node: /sys/bus/pci/devices/0000:01:00.0/numa_node\n",
      "Your kernel may have been built without NUMA support.\n",
      "2024-03-04 20:15:05.230895: I external/local_xla/xla/stream_executor/cuda/cuda_executor.cc:887] could not open file to read NUMA node: /sys/bus/pci/devices/0000:01:00.0/numa_node\n",
      "Your kernel may have been built without NUMA support.\n",
      "2024-03-04 20:15:05.230903: I tensorflow/core/common_runtime/gpu/gpu_device.cc:2022] Could not identify NUMA node of platform GPU id 0, defaulting to 0.  Your kernel may not have been built with NUMA support.\n",
      "2024-03-04 20:15:05.231034: I external/local_xla/xla/stream_executor/cuda/cuda_executor.cc:887] could not open file to read NUMA node: /sys/bus/pci/devices/0000:01:00.0/numa_node\n",
      "Your kernel may have been built without NUMA support.\n",
      "2024-03-04 20:15:05.231057: I tensorflow/core/common_runtime/gpu/gpu_device.cc:1929] Created device /job:localhost/replica:0/task:0/device:GPU:0 with 13553 MB memory:  -> device: 0, name: NVIDIA GeForce RTX 4070 Ti SUPER, pci bus id: 0000:01:00.0, compute capability: 8.9\n",
      "2024-03-04 20:15:05.700186: I external/local_xla/xla/stream_executor/cuda/cuda_dnn.cc:454] Loaded cuDNN version 8902\n"
     ]
    },
    {
     "name": "stdout",
     "output_type": "stream",
     "text": [
      "[[[0.      0.      0.      0.     ]\n",
      "  [0.      0.      0.      0.     ]]\n",
      "\n",
      " [[0.40736 0.40736 0.40736 0.40736]\n",
      "  [0.40736 0.40736 0.40736 0.40736]]\n",
      "\n",
      " [[5.      5.      5.      3.25949]\n",
      "  [3.25949 3.25949 3.25949 2.40736]]]\n"
     ]
    }
   ],
   "source": [
    "np.random.seed(1)\n",
    "\n",
    "# making input data for testing\n",
    "X1 = np.ones((1, 4, 4, 3)) * -1\n",
    "X2 = np.ones((1, 4, 4, 3)) * 1\n",
    "X3 = np.ones((1, 4, 4, 3)) * 3\n",
    "\n",
    "X = np.concatenate((X1, X2, X3), axis=0).astype(np.float32)\n",
    "\n",
    "A3 = identity_block(X, f=2, filters=[4, 4, 3], initializer=lambda seed=0:constant(value=1), training=True)\n",
    "A3np = A3.numpy()\n",
    "print(np.around(A3np[:,(0,-1),:,:].mean(axis = 3), 5))"
   ]
  },
  {
   "cell_type": "markdown",
   "metadata": {},
   "source": [
    "<h3>Convolution Block</h3>"
   ]
  },
  {
   "cell_type": "code",
   "execution_count": 4,
   "metadata": {},
   "outputs": [],
   "source": [
    "def convolutional_block(X, f, filters, s = 2, training=True, initializer=glorot_uniform):\n",
    "    F1, F2, F3 = filters\n",
    "    X_shortcut = X\n",
    "\n",
    "    X = Conv2D(filters=F1, kernel_size=1, strides=(s, s), padding='valid', kernel_initializer=initializer(seed=0))(X)\n",
    "    X = BatchNormalization(axis=3)(X, training=training)\n",
    "    X = Activation('relu')(X)\n",
    "\n",
    "    X = Conv2D(filters=F2, kernel_size=f, strides=(1, 1), padding='same', kernel_initializer=initializer(seed=0))(X)\n",
    "    X = BatchNormalization(axis=3)(X, training=training)\n",
    "    X = Activation('relu')(X)\n",
    "\n",
    "    X = Conv2D(filters=F3, kernel_size=1, strides=(1, 1), padding='valid', kernel_initializer=initializer(seed=0))(X)\n",
    "    X = BatchNormalization(axis=3)(X, training=training)\n",
    "\n",
    "    X_shortcut = Conv2D(filters=F3, kernel_size=1, strides=(s, s), padding='valid', kernel_initializer=initializer(seed=0))(X_shortcut)\n",
    "    X_shortcut = BatchNormalization(axis=3)(X_shortcut, training=training)\n",
    "    X = Add()([X_shortcut, X])\n",
    "\n",
    "    X = Activation('relu')(X)\n",
    "\n",
    "    return X\n"
   ]
  },
  {
   "cell_type": "markdown",
   "metadata": {},
   "source": [
    "<h4>Testing convolutional block</h4>"
   ]
  },
  {
   "cell_type": "code",
   "execution_count": 5,
   "metadata": {},
   "outputs": [
    {
     "name": "stdout",
     "output_type": "stream",
     "text": [
      "tf.Tensor(\n",
      "[[[0.        2.7823162 0.        0.        1.6960442 2.8218517]\n",
      "  [0.        1.5445004 0.        0.        2.170656  1.3908148]]\n",
      "\n",
      " [[0.        1.9399529 0.        0.        1.4798119 1.9157798]\n",
      "  [0.        0.        0.        0.9879823 1.123416  0.       ]]], shape=(2, 2, 6), dtype=float32)\n"
     ]
    }
   ],
   "source": [
    "np.random.seed(1)\n",
    "\n",
    "X1 = np.ones((1, 4, 4, 3)) * -1\n",
    "X2 = np.ones((1, 4, 4, 3)) * 1\n",
    "X3 = np.ones((1, 4, 4, 3)) * 3\n",
    "\n",
    "X = np.concatenate((X1, X2, X3), axis = 0).astype(np.float32)\n",
    "\n",
    "A = convolutional_block(X, f = 2, filters = [2, 4, 6])\n",
    "print(A[0])"
   ]
  },
  {
   "cell_type": "markdown",
   "metadata": {},
   "source": [
    "<h3>RESNET50 Implementation</h3>"
   ]
  },
  {
   "cell_type": "code",
   "execution_count": 6,
   "metadata": {},
   "outputs": [],
   "source": [
    "def ResNet50(input_shape = (64, 64, 3), classes=6):\n",
    "    X_input = Input(input_shape)\n",
    "\n",
    "    X = ZeroPadding2D(padding=(3, 3))(X_input)\n",
    "\n",
    "    X = Conv2D(filters=64, kernel_size=(7, 7), strides=(2, 2), kernel_initializer=glorot_uniform(seed=0))(X)\n",
    "    X = BatchNormalization(axis=3)(X)\n",
    "    X = Activation('relu')(X)\n",
    "    X = MaxPooling2D(pool_size=(3, 3), strides=(2, 2))(X)\n",
    "\n",
    "    X = convolutional_block(X, f=3, s=1, filters=[64, 64, 256])\n",
    "    X = identity_block(X, f=3, filters=[64, 64, 256])\n",
    "    X = identity_block(X, f=3, filters=[64, 64, 256])\n",
    "\n",
    "    X = convolutional_block(X, f=3, s=2, filters=[128, 128, 512])\n",
    "    X = identity_block(X, f=3, filters=[128, 128, 512])\n",
    "    X = identity_block(X, f=3, filters=[128, 128, 512])\n",
    "    X = identity_block(X, f=3, filters=[128, 128, 512])\n",
    "\n",
    "    X = convolutional_block(X, f=3, s=2, filters=[256, 256, 1024])    \n",
    "    X = identity_block(X, f=3, filters=[256, 256, 1024])\n",
    "    X = identity_block(X, f=3, filters=[256, 256, 1024])\n",
    "    X = identity_block(X, f=3, filters=[256, 256, 1024])\n",
    "    X = identity_block(X, f=3, filters=[256, 256, 1024])\n",
    "    X = identity_block(X, f=3, filters=[256, 256, 1024])\n",
    "\n",
    "    X = convolutional_block(X, f=3, s=2, filters=[512, 512, 2048])\n",
    "    X = identity_block(X, f=3, filters=[512, 512, 2048])\n",
    "    X = identity_block(X, f=3, filters=[512, 512, 2048])\n",
    "\n",
    "    X = AveragePooling2D((2, 2))(X)\n",
    "\n",
    "    X = Flatten()(X)\n",
    "    X = Dense(classes, activation='softmax', kernel_initializer=glorot_uniform(seed=0))(X)\n",
    "\n",
    "    model = Model(inputs=X_input, outputs=X)\n",
    "    return model"
   ]
  },
  {
   "cell_type": "code",
   "execution_count": 7,
   "metadata": {},
   "outputs": [],
   "source": [
    "model = ResNet50(input_shape = (64, 64, 3), classes = 6)\n",
    "## print(model.summary())\n",
    "model.compile(optimizer='adam', loss='categorical_crossentropy', metrics=['accuracy'])"
   ]
  },
  {
   "cell_type": "markdown",
   "metadata": {},
   "source": [
    "<h4>Load data</h4>"
   ]
  },
  {
   "cell_type": "code",
   "execution_count": 8,
   "metadata": {},
   "outputs": [],
   "source": [
    "def load_dataset():\n",
    "    train_dataset = h5py.File('../datasets/train_signs.h5', 'r')\n",
    "    train_X_OG = np.array(train_dataset['train_set_x'][:])\n",
    "    train_Y_OG = np.array(train_dataset['train_set_y'][:])\n",
    "\n",
    "    test_dataset = h5py.File('../datasets/test_signs.h5', 'r')\n",
    "    test_X_OG = np.array(test_dataset['test_set_x'][:])\n",
    "    test_Y_OG = np.array(test_dataset['test_set_y'][:])\n",
    "\n",
    "    classes = np.array(test_dataset['list_classes'][:])\n",
    "\n",
    "    train_Y_OG = train_Y_OG.reshape((1, train_Y_OG.shape[0]))\n",
    "    test_Y_OG = test_Y_OG.reshape((1, test_Y_OG.shape[0]))\n",
    "\n",
    "    return train_X_OG, train_Y_OG, test_X_OG, test_Y_OG, classes\n",
    "\n",
    "def convert_to_one_hot(Y, C):\n",
    "    Y = np.eye(C)[Y.reshape(-1)].T\n",
    "    return Y"
   ]
  },
  {
   "cell_type": "markdown",
   "metadata": {},
   "source": [
    "<h3>Training</h3>"
   ]
  },
  {
   "cell_type": "code",
   "execution_count": 10,
   "metadata": {},
   "outputs": [
    {
     "name": "stdout",
     "output_type": "stream",
     "text": [
      "number of training examples = 1080\n",
      "number of test examples = 120\n",
      "X_train shape: (1080, 64, 64, 3)\n",
      "Y_train shape: (1080, 6)\n",
      "X_test shape: (120, 64, 64, 3)\n",
      "Y_test shape: (120, 6)\n",
      "Epoch 1/15\n",
      "68/68 [==============================] - 4s 54ms/step - loss: 0.0456 - accuracy: 0.9870\n",
      "Epoch 2/15\n",
      "68/68 [==============================] - 3s 50ms/step - loss: 0.0251 - accuracy: 0.9926\n",
      "Epoch 3/15\n",
      "68/68 [==============================] - 3s 50ms/step - loss: 0.2215 - accuracy: 0.9537\n",
      "Epoch 4/15\n",
      "68/68 [==============================] - 3s 48ms/step - loss: 0.9976 - accuracy: 0.7722\n",
      "Epoch 5/15\n",
      "68/68 [==============================] - 3s 48ms/step - loss: 0.2321 - accuracy: 0.9259\n",
      "Epoch 6/15\n",
      "68/68 [==============================] - 3s 50ms/step - loss: 0.0796 - accuracy: 0.9750\n",
      "Epoch 7/15\n",
      "68/68 [==============================] - 3s 48ms/step - loss: 0.0372 - accuracy: 0.9889\n",
      "Epoch 8/15\n",
      "68/68 [==============================] - 3s 50ms/step - loss: 0.0410 - accuracy: 0.9870\n",
      "Epoch 9/15\n",
      "68/68 [==============================] - 3s 51ms/step - loss: 0.0846 - accuracy: 0.9685\n",
      "Epoch 10/15\n",
      "68/68 [==============================] - 3s 51ms/step - loss: 0.0307 - accuracy: 0.9917\n",
      "Epoch 11/15\n",
      "68/68 [==============================] - 3s 51ms/step - loss: 0.0141 - accuracy: 0.9963\n",
      "Epoch 12/15\n",
      "68/68 [==============================] - 3s 51ms/step - loss: 0.0742 - accuracy: 0.9769\n",
      "Epoch 13/15\n",
      "68/68 [==============================] - 4s 54ms/step - loss: 0.0343 - accuracy: 0.9889\n",
      "Epoch 14/15\n",
      "68/68 [==============================] - 3s 48ms/step - loss: 0.0296 - accuracy: 0.9935\n",
      "Epoch 15/15\n",
      "68/68 [==============================] - 3s 47ms/step - loss: 0.0337 - accuracy: 0.9870\n",
      "4/4 [==============================] - 0s 16ms/step - loss: 0.2489 - accuracy: 0.9500\n",
      "Loss = 0.24889875948429108\n",
      "Test Accuracy = 0.949999988079071\n"
     ]
    }
   ],
   "source": [
    "train_X_OG, train_Y_OG, test_X_OG, test_Y_OG, classes = load_dataset()\n",
    "\n",
    "X_train = train_X_OG/255.\n",
    "X_test=  test_X_OG/255.\n",
    "\n",
    "Y_train = convert_to_one_hot(train_Y_OG, 6).T\n",
    "Y_test = convert_to_one_hot(test_Y_OG, 6).T\n",
    "\n",
    "print (\"number of training examples = \" + str(X_train.shape[0]))\n",
    "print (\"number of test examples = \" + str(X_test.shape[0]))\n",
    "print (\"X_train shape: \" + str(X_train.shape))\n",
    "print (\"Y_train shape: \" + str(Y_train.shape))\n",
    "print (\"X_test shape: \" + str(X_test.shape))\n",
    "print (\"Y_test shape: \" + str(Y_test.shape))\n",
    "\n",
    "model.fit(X_train, Y_train, epochs = 15, batch_size = 16)\n",
    "\n",
    "preds = model.evaluate(X_test, Y_test)\n",
    "print (\"Loss = \" + str(preds[0]))\n",
    "print (\"Test Accuracy = \" + str(preds[1]))"
   ]
  }
 ],
 "metadata": {
  "kernelspec": {
   "display_name": "Python 3 (ipykernel)",
   "language": "python",
   "name": "python3"
  },
  "language_info": {
   "codemirror_mode": {
    "name": "ipython",
    "version": 3
   },
   "file_extension": ".py",
   "mimetype": "text/x-python",
   "name": "python",
   "nbconvert_exporter": "python",
   "pygments_lexer": "ipython3",
   "version": "3.10.12"
  }
 },
 "nbformat": 4,
 "nbformat_minor": 2
}
