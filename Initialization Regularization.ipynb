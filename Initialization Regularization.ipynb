{
  "nbformat": 4,
  "nbformat_minor": 0,
  "metadata": {
    "colab": {
      "provenance": []
    },
    "kernelspec": {
      "name": "python3",
      "display_name": "Python 3"
    },
    "language_info": {
      "name": "python"
    }
  },
  "cells": [
    {
      "cell_type": "markdown",
      "source": [
        "**End to end neural net practice**\n",
        "\n",
        "###Objectives:\n",
        "1.   Difference in results with different initialization values i.e random, zeroes and He initialization.\n",
        "2.   Add regularization to reduce overfitting\n",
        "3.   Optimize gradient descent using momentum, RMS prop and ADAM\n",
        "\n"
      ],
      "metadata": {
        "id": "nkOHIiS0z5Xw"
      }
    },
    {
      "cell_type": "code",
      "execution_count": null,
      "metadata": {
        "id": "g_FhnN80zrEl"
      },
      "outputs": [],
      "source": [
        "import numpy as np\n",
        "import matplotlib.pyplot as plt\n",
        "import sklearn\n",
        "from sklearn.datasets import load_diabetes\n",
        "from sklearn.model_selection import train_test_split\n",
        "\n",
        "%matplotlib inline\n",
        "plt.rcParams['figure.figsize'] = (7.0, 4.0)\n",
        "plt.rcParams['figure.interpolation'] = 'nearest'\n",
        "plt.rcParams['image.cmap'] = 'gray'\n",
        "\n",
        "X_train, Y_train, X_test, Y_test = load_data()"
      ]
    },
    {
      "cell_type": "markdown",
      "source": [
        "###Functions"
      ],
      "metadata": {
        "id": "ZV0seELW1I5M"
      }
    },
    {
      "cell_type": "code",
      "source": [
        "def load_data():\n",
        "  dd = load_diabetes()\n",
        "  X_OG = dd.data\n",
        "  Y_OG = dd.target\n",
        "  X_train, X_test, Y_train, Y_test = train_test_split(X_OG, Y_OG, test_size=0.2, random_state=42)\n",
        "  return X_train, Y_train, X_test, Y_test\n",
        "\n",
        "def initialize_parameters(layer_dims, type=\"random\"):\n",
        "  L = len(layer_dims)\n",
        "  for l in range(1, L):\n",
        "    if type == 'random':\n",
        "      parameters['W' + str(l)] = np.random.randn((layer_dims[l], layer_dims[l-1])) * 10\n",
        "    elif type == 'zeroes':\n",
        "      parameters['W' + str(l)] = np.zeroes((layer_dims[l], layer_dims[l-1]))\n",
        "    elif type == \"he\":\n",
        "      parameters['W' + str(l)] = np.random.randn((layer_dims[l], layer_dims[l-1])) * np.sqrt(2/layer_dims[l-1])\n",
        "    parameters['b' + str(l)] = np.zeroes((layer_dims[l], 1))\n",
        "  return parameters\n",
        "\n",
        "def sigmoid(Z):\n",
        "  A = 1/(1 + np.exp(-Z))\n",
        "  cache = A\n",
        "  return A, cache\n",
        "\n",
        "def relu(Z):\n",
        "  A = np.maximum(0, Z)\n",
        "  cache = A\n",
        "  return A, cache\n",
        "\n",
        "def relu_backwards(dA, cache):\n",
        "    Z = cache\n",
        "    dZ = np.array(dA, copy=True)\n",
        "    # When z <= 0, you should set dz to 0 as well.\n",
        "    dZ[Z <= 0] = 0\n",
        "    return dZ\n",
        "\n",
        "def sigmoid_backwards(dA, cache):\n",
        "    Z = cache\n",
        "    s = 1/(1+np.exp(-Z))\n",
        "    dZ = dA * s * (1-s)\n",
        "    return dZ\n",
        "\n",
        "def calculate_cost(AL, Y):\n",
        "  m = AL.shape\n",
        "  J = (1/m)* (-np.dot(Y, np.log(AL).T) - np.dot((1-Y), np.log(1 - AL).T))\n",
        "  return np.squeeze(J)\n",
        "\n",
        "def update_parameters(parameters, grads, learning_rate=0.01):\n",
        "  L = parameters//2\n",
        "  for l in range(1, L):\n",
        "    parameters['W' +  str(l)] = learning_rate * grads['dW' + str(l)]\n",
        "    parameters['b' +  str(l)] = learning_rate * grads['db' + str(l)]\n",
        "  return parameters\n"
      ],
      "metadata": {
        "id": "cbT1HmNT1L_-"
      },
      "execution_count": null,
      "outputs": []
    },
    {
      "cell_type": "markdown",
      "source": [
        "###Forward pass"
      ],
      "metadata": {
        "id": "u06q9reI0mXI"
      }
    },
    {
      "cell_type": "code",
      "source": [
        "def forward_pass(X, parameters):\n",
        "  L = parameters//2\n",
        "  caches = []\n",
        "  A = X\n",
        "  for l in range(1, L):\n",
        "    A_prev = A\n",
        "    Z = np.dot(parameters['W' + str(l)], A_prev) + parameters['b' + str(l)]\n",
        "    A, cache = relu(Z)\n",
        "    cache.append(Z)\n",
        "\n",
        "  Z = np.dot(parameters['W' + str(L)], A) + parameters['b' + str(L)]\n",
        "  AL, cache = sigmoid(Z)\n",
        "  cache.append(Z)\n",
        "\n",
        "  caches.append(cache)\n",
        "\n",
        "  return AL, caches"
      ],
      "metadata": {
        "id": "_uxBDMmx03xu"
      },
      "execution_count": null,
      "outputs": []
    },
    {
      "cell_type": "markdown",
      "source": [
        "###Backward propagation"
      ],
      "metadata": {
        "id": "mHVYp_wy0p9D"
      }
    },
    {
      "cell_type": "code",
      "source": [
        "def linear_backwards(dZ, cache):\n",
        "  A_prev, W, b = cache\n",
        "  m = A_prev.shape[1]\n",
        "\n",
        "  dW = 1./m * np.dot(dZ,A_prev.T)\n",
        "  db = 1./m * np.sum(dZ, axis = 1, keepdims = True)\n",
        "  dA_prev = np.dot(W.T,dZ)\n",
        "\n",
        "  return dA_prev, dW, db\n",
        "\n",
        "\n",
        "def linear_backward_activation_function(dA, cache, activation_function):\n",
        "  linear_cache, activation_cache = cache\n",
        "  if activation_function == 'sigmoid':\n",
        "    dZ = sigmoid_backwards(dA, activation_cache)\n",
        "    dA_prev, dW, db = linear_backwards(dZ, linear_cache)\n",
        "  elif activation_function == 'relu':\n",
        "    dZ = relu_backwards(dA, activation_cache)\n",
        "    dA_prev, dW, db = linear_backwards(dZ, linear_cache)\n",
        "\n",
        "  return dA_prev, dW, db\n",
        "\n",
        "\n",
        "def backward_prop(AL, Y, cache):\n",
        "  grads = []\n",
        "  m = AL.shape[1]\n",
        "  Y = Y.reshape(AL.shape)\n",
        "  L = len(cache)\n",
        "\n",
        "  cur_cache = cache[L-1]\n",
        "  dAL = - (np.divide(Y, AL) - np.divide((1 - Y), (1 - AL)))\n",
        "\n",
        "  grads['dA' + str(L)], grads['dW' + str(L)], grads['db' + str(L)] = linear_backward_activation_function(dAL, cur_cache, activation_function=\"sigmoid\")\n",
        "\n",
        "  for l in reversed(range(L-1)):\n",
        "    cur_cache = caches[l]\n",
        "    grads['dA' + str(l + 1)], grads['dW' + str(l + 1)], grads['db' + str(l + 1)] = linear_backward_activation_function('dA' + str(l + 2), cur_cache, activation_function=\"relu\")\n",
        "\n",
        "  return grads\n",
        "\n"
      ],
      "metadata": {
        "id": "43SBZelx024A"
      },
      "execution_count": null,
      "outputs": []
    },
    {
      "cell_type": "markdown",
      "source": [
        "###Model"
      ],
      "metadata": {
        "id": "2IB-HCSu0zX5"
      }
    },
    {
      "cell_type": "code",
      "source": [
        "def nn_model(X, Y, layer_dims, learning_rate=1.2, iterations=1000, initialization=\"random\"):\n",
        "  costs = []\n",
        "  parameters = initialize_parameters(layer_dims)\n",
        "  for iter in range(iterations):\n",
        "    AL, cache = forward_pass(X, parameters)\n",
        "    cost = calculate_cost(AL, Y)\n",
        "    grads = backward_prop(AL, Y, cache)\n",
        "    parameters = update_parameters(parameters, grads, learning_rate)\n",
        "\n",
        "    if cost%100 == 0:\n",
        "      costs.append(cost)\n",
        "\n",
        "  plt.plot(np.squeeze(cost))\n",
        "  plt.ylabel('Cost')\n",
        "  plt.xlabel('Iterations')\n",
        "  plt.title('Learning Rate')\n",
        "  plt.show()\n",
        "\n",
        "  return parameters"
      ],
      "metadata": {
        "id": "TQkzSwQ_0pdF"
      },
      "execution_count": null,
      "outputs": []
    },
    {
      "cell_type": "markdown",
      "source": [
        "###Trigger"
      ],
      "metadata": {
        "id": "WUoivY7404xb"
      }
    },
    {
      "cell_type": "code",
      "source": [],
      "metadata": {
        "id": "qDxXtBRP0611"
      },
      "execution_count": null,
      "outputs": []
    }
  ]
}