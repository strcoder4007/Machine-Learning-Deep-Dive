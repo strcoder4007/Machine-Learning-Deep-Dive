{
  "cells": [
    {
      "cell_type": "markdown",
      "metadata": {
        "id": "nkOHIiS0z5Xw"
      },
      "source": [
        "**End to end neural net practice**\n",
        "\n",
        "###Objectives:\n",
        "1.   Difference in results with different initialization values i.e random, zeros and He initialization.\n",
        "2.   Add regularization to reduce overfitting\n",
        "3.   Optimize gradient descent using momentum, RMS prop and ADAM\n",
        "\n"
      ]
    },
    {
      "cell_type": "code",
      "execution_count": 1,
      "metadata": {
        "id": "g_FhnN80zrEl"
      },
      "outputs": [],
      "source": [
        "import numpy as np\n",
        "import matplotlib.pyplot as plt\n",
        "import sklearn\n",
        "from sklearn.datasets import load_diabetes\n",
        "from sklearn.model_selection import train_test_split\n",
        "\n",
        "%matplotlib inline\n",
        "plt.rcParams['figure.figsize'] = (7.0, 4.0)\n",
        "plt.rcParams['image.interpolation'] = 'nearest'\n",
        "plt.rcParams['image.cmap'] = 'gray'"
      ]
    },
    {
      "cell_type": "markdown",
      "metadata": {
        "id": "ZV0seELW1I5M"
      },
      "source": [
        "###Functions"
      ]
    },
    {
      "cell_type": "code",
      "execution_count": 2,
      "metadata": {
        "id": "cbT1HmNT1L_-"
      },
      "outputs": [],
      "source": [
        "def load_data():\n",
        "  np.random.seed(1)\n",
        "  m = 4000 # number of examples\n",
        "  N = int(m/2) # number of points per class\n",
        "  D = 2 # dimensionality\n",
        "  X = np.zeros((m,D)) # data matrix where each row is a single example\n",
        "  Y = np.zeros((m,1), dtype='uint8') # labels vector (0 for red, 1 for blue)\n",
        "  a = 4 # maximum ray of the flower\n",
        "\n",
        "  for j in range(2):\n",
        "      ix = range(N*j,N*(j+1))\n",
        "      t = np.linspace(j*3.12,(j+1)*3.12,N) + np.random.randn(N)*0.2 # theta\n",
        "      r = a*np.sin(4*t) + np.random.randn(N)*0.2 # radius\n",
        "      X[ix] = np.c_[r*np.sin(t), r*np.cos(t)]\n",
        "      Y[ix] = j\n",
        "\n",
        "  # X = X.T\n",
        "  # Y = Y.T\n",
        "\n",
        "  return train_test_split(X, Y, test_size=0.2, random_state=42)\n",
        "\n",
        "def initialize_parameters(layer_dims, type=\"random\"):\n",
        "  L = len(layer_dims)\n",
        "  parameters = {}\n",
        "  for l in range(1, L):\n",
        "    if type == 'random':\n",
        "      parameters['W' + str(l)] = np.random.randn(layer_dims[l], layer_dims[l-1]) * 10\n",
        "    elif type == 'zeros':\n",
        "      parameters['W' + str(l)] = np.zeros((layer_dims[l], layer_dims[l-1]))\n",
        "    elif type == \"he\":\n",
        "      parameters['W' + str(l)] = np.random.randn(layer_dims[l], layer_dims[l-1]) * np.sqrt(2/layer_dims[l-1])\n",
        "    parameters['b' + str(l)] = np.zeros((layer_dims[l], 1))\n",
        "  return parameters\n",
        "\n",
        "def sigmoid(Z):\n",
        "  A = 1/(1 + np.exp(-Z))\n",
        "  cache = A\n",
        "  return A, cache\n",
        "\n",
        "def relu(Z):\n",
        "  A = np.maximum(0, Z)\n",
        "  cache = A\n",
        "  return A, cache\n",
        "\n",
        "def relu_backwards(dA, cache):\n",
        "  Z = cache\n",
        "  dZ = np.array(dA, copy=True)\n",
        "  # When z <= 0, you should set dz to 0 as well.\n",
        "  dZ[Z <= 0] = 0\n",
        "  return dZ\n",
        "\n",
        "def sigmoid_backwards(dA, cache):\n",
        "  Z = cache\n",
        "  s = 1/(1+np.exp(-Z))\n",
        "  dZ = dA * s * (1-s)\n",
        "  return dZ\n",
        "\n",
        "def calculate_cost(AL, Y):\n",
        "  m = AL.shape[0]\n",
        "  J = (1/m)* (-np.dot(Y, np.log(AL).T) - np.dot((1-Y), np.log(1 - AL).T))\n",
        "  return np.squeeze(J)\n",
        "\n",
        "def update_parameters(parameters, grads, learning_rate=0.01):\n",
        "  L = len(parameters)//2\n",
        "  for l in range(1, L):\n",
        "    parameters['W' +  str(l)] = parameters['W' + str(l)] - learning_rate * grads['dW' + str(l)]\n",
        "    parameters['b' +  str(l)] = parameters['b' + str(l)] - learning_rate * grads['db' + str(l)]\n",
        "  return parameters\n"
      ]
    },
    {
      "cell_type": "markdown",
      "metadata": {
        "id": "u06q9reI0mXI"
      },
      "source": [
        "###Forward pass"
      ]
    },
    {
      "cell_type": "code",
      "execution_count": 3,
      "metadata": {
        "id": "_uxBDMmx03xu"
      },
      "outputs": [],
      "source": [
        "def linear_forward(W, b, A):\n",
        "  Z = np.dot(W, A) + b\n",
        "  cache = Z\n",
        "  return Z, cache\n",
        "\n",
        "def linear_forward_activation(W, b, A, activation_function):\n",
        "  Z, linear_cache = linear_forward(W, b, A)\n",
        "  if activation_function == 'relu':\n",
        "    A, activation_cache = relu(Z)\n",
        "  elif activation_function == 'sigmoid':\n",
        "    A, activation_cache = sigmoid(Z)\n",
        "  cache = (linear_cache, activation_cache)\n",
        "  return A, cache\n",
        "\n",
        "\n",
        "def forward_pass(X, parameters):\n",
        "  L = len(parameters) // 2\n",
        "  caches = []\n",
        "  A = X\n",
        "  for l in range(1, L):\n",
        "    A_prev = A\n",
        "    A, cache = linear_forward_activation(parameters['W' + str(l)], parameters['b' + str(l)], A_prev, activation_function=\"relu\")\n",
        "    caches.append(cache)\n",
        "\n",
        "  AL, cache = linear_forward_activation(parameters['W' + str(L)], parameters['b' + str(L)], A, activation_function=\"sigmoid\")\n",
        "  caches.append(cache)\n",
        "\n",
        "  return AL, caches"
      ]
    },
    {
      "cell_type": "markdown",
      "metadata": {
        "id": "mHVYp_wy0p9D"
      },
      "source": [
        "###Backward propagation"
      ]
    },
    {
      "cell_type": "code",
      "execution_count": 4,
      "metadata": {
        "id": "43SBZelx024A"
      },
      "outputs": [],
      "source": [
        "def linear_backwards(dZ, cache):\n",
        "  A_prev, W = cache\n",
        "  m = A_prev.shape[1]\n",
        "\n",
        "  dW = 1./m * np.dot(dZ,A_prev.T)\n",
        "  db = 1./m * np.sum(dZ, axis = 1, keepdims = True)\n",
        "  dA_prev = np.dot(W.T,dZ)\n",
        "\n",
        "  return dA_prev, dW, db\n",
        "\n",
        "\n",
        "def linear_backward_activation_function(dA, cache, activation_function):\n",
        "  linear_cache, activation_cache = cache\n",
        "  if activation_function == 'sigmoid':\n",
        "    dZ = sigmoid_backwards(dA, activation_cache)\n",
        "    dA_prev, dW, db = linear_backwards(dZ, linear_cache)\n",
        "  elif activation_function == 'relu':\n",
        "    dZ = relu_backwards(dA, activation_cache)\n",
        "    dA_prev, dW, db = linear_backwards(dZ, linear_cache)\n",
        "\n",
        "  return dA_prev, dW, db\n",
        "\n",
        "\n",
        "def backward_prop(AL, Y, caches):\n",
        "  grads = []\n",
        "  m = AL.shape[1]\n",
        "  Y = Y.reshape(AL.shape)\n",
        "  L = len(caches)\n",
        "\n",
        "  cur_cache = caches[L-1]\n",
        "  dAL = - (np.divide(Y, AL) - np.divide((1 - Y), (1 - AL)))\n",
        "\n",
        "  grads['dA' + str(L)], grads['dW' + str(L)], grads['db' + str(L)] = linear_backward_activation_function(dAL, cur_cache, activation_function=\"sigmoid\")\n",
        "\n",
        "  for l in reversed(range(L-1)):\n",
        "    cur_cache = caches[l]\n",
        "    grads['dA' + str(l + 1)], grads['dW' + str(l + 1)], grads['db' + str(l + 1)] = linear_backward_activation_function('dA' + str(l + 2), cur_cache, activation_function=\"relu\")\n",
        "\n",
        "  return grads\n",
        "\n"
      ]
    },
    {
      "cell_type": "markdown",
      "metadata": {
        "id": "2IB-HCSu0zX5"
      },
      "source": [
        "###Model"
      ]
    },
    {
      "cell_type": "code",
      "execution_count": 5,
      "metadata": {
        "id": "TQkzSwQ_0pdF"
      },
      "outputs": [],
      "source": [
        "def nn_model(X, Y, layer_dims, learning_rate=1.2, iterations=1000, initialization=\"random\"):\n",
        "  costs = []\n",
        "  parameters = initialize_parameters(layer_dims)\n",
        "  for iter in range(iterations):\n",
        "    AL, cache = forward_pass(X, parameters)\n",
        "    cost = calculate_cost(AL, Y)\n",
        "    grads = backward_prop(AL, Y, cache)\n",
        "    parameters = update_parameters(parameters, grads, learning_rate)\n",
        "\n",
        "    if cost%100 == 0:\n",
        "      costs.append(cost)\n",
        "\n",
        "  plt.plot(np.squeeze(cost))\n",
        "  plt.ylabel('Cost')\n",
        "  plt.xlabel('Iterations')\n",
        "  plt.title('Learning Rate')\n",
        "  plt.show()\n",
        "\n",
        "  return parameters"
      ]
    },
    {
      "cell_type": "markdown",
      "metadata": {
        "id": "WUoivY7404xb"
      },
      "source": [
        "###Trigger"
      ]
    },
    {
      "cell_type": "code",
      "execution_count": 6,
      "metadata": {
        "id": "qDxXtBRP0611"
      },
      "outputs": [
        {
          "name": "stderr",
          "output_type": "stream",
          "text": [
            "/tmp/ipykernel_822/186197911.py:36: RuntimeWarning: overflow encountered in exp\n",
            "  A = 1/(1 + np.exp(-Z))\n",
            "/tmp/ipykernel_822/186197911.py:60: RuntimeWarning: divide by zero encountered in log\n",
            "  J = (1/m)* (-np.dot(Y, np.log(AL).T) - np.dot((1-Y), np.log(1 - AL).T))\n",
            "/tmp/ipykernel_822/1506850864.py:31: RuntimeWarning: divide by zero encountered in divide\n",
            "  dAL = - (np.divide(Y, AL) - np.divide((1 - Y), (1 - AL)))\n"
          ]
        },
        {
          "ename": "ValueError",
          "evalue": "too many values to unpack (expected 2)",
          "output_type": "error",
          "traceback": [
            "\u001b[0;31m---------------------------------------------------------------------------\u001b[0m",
            "\u001b[0;31mValueError\u001b[0m                                Traceback (most recent call last)",
            "Cell \u001b[0;32mIn[6], line 3\u001b[0m\n\u001b[1;32m      1\u001b[0m X_train, Y_train, X_test, Y_test \u001b[38;5;241m=\u001b[39m load_data()\n\u001b[1;32m      2\u001b[0m layer_dims \u001b[38;5;241m=\u001b[39m [X_train\u001b[38;5;241m.\u001b[39mshape[\u001b[38;5;241m0\u001b[39m], \u001b[38;5;241m3\u001b[39m, \u001b[38;5;241m4\u001b[39m, \u001b[38;5;241m5\u001b[39m, \u001b[38;5;241m6\u001b[39m, \u001b[38;5;241m7\u001b[39m, \u001b[38;5;241m4\u001b[39m, \u001b[38;5;241m5\u001b[39m, Y_train\u001b[38;5;241m.\u001b[39mshape[\u001b[38;5;241m0\u001b[39m]]\n\u001b[0;32m----> 3\u001b[0m parameters \u001b[38;5;241m=\u001b[39m \u001b[43mnn_model\u001b[49m\u001b[43m(\u001b[49m\u001b[43mX_train\u001b[49m\u001b[43m,\u001b[49m\u001b[43m \u001b[49m\u001b[43mY_train\u001b[49m\u001b[43m,\u001b[49m\u001b[43m \u001b[49m\u001b[43mlayer_dims\u001b[49m\u001b[43m,\u001b[49m\u001b[43m \u001b[49m\u001b[43mlearning_rate\u001b[49m\u001b[38;5;241;43m=\u001b[39;49m\u001b[38;5;241;43m1.2\u001b[39;49m\u001b[43m,\u001b[49m\u001b[43m \u001b[49m\u001b[43miterations\u001b[49m\u001b[38;5;241;43m=\u001b[39;49m\u001b[38;5;241;43m2000\u001b[39;49m\u001b[43m,\u001b[49m\u001b[43m \u001b[49m\u001b[43minitialization\u001b[49m\u001b[38;5;241;43m=\u001b[39;49m\u001b[38;5;124;43m'\u001b[39;49m\u001b[38;5;124;43mzeros\u001b[39;49m\u001b[38;5;124;43m'\u001b[39;49m\u001b[43m)\u001b[49m\n\u001b[1;32m      4\u001b[0m \u001b[38;5;28mprint\u001b[39m(calculate_cost())\n",
            "Cell \u001b[0;32mIn[5], line 7\u001b[0m, in \u001b[0;36mnn_model\u001b[0;34m(X, Y, layer_dims, learning_rate, iterations, initialization)\u001b[0m\n\u001b[1;32m      5\u001b[0m AL, cache \u001b[38;5;241m=\u001b[39m forward_pass(X, parameters)\n\u001b[1;32m      6\u001b[0m cost \u001b[38;5;241m=\u001b[39m calculate_cost(AL, Y)\n\u001b[0;32m----> 7\u001b[0m grads \u001b[38;5;241m=\u001b[39m \u001b[43mbackward_prop\u001b[49m\u001b[43m(\u001b[49m\u001b[43mAL\u001b[49m\u001b[43m,\u001b[49m\u001b[43m \u001b[49m\u001b[43mY\u001b[49m\u001b[43m,\u001b[49m\u001b[43m \u001b[49m\u001b[43mcache\u001b[49m\u001b[43m)\u001b[49m\n\u001b[1;32m      8\u001b[0m parameters \u001b[38;5;241m=\u001b[39m update_parameters(parameters, grads, learning_rate)\n\u001b[1;32m     10\u001b[0m \u001b[38;5;28;01mif\u001b[39;00m cost\u001b[38;5;241m%\u001b[39m\u001b[38;5;241m100\u001b[39m \u001b[38;5;241m==\u001b[39m \u001b[38;5;241m0\u001b[39m:\n",
            "Cell \u001b[0;32mIn[4], line 33\u001b[0m, in \u001b[0;36mbackward_prop\u001b[0;34m(AL, Y, caches)\u001b[0m\n\u001b[1;32m     30\u001b[0m cur_cache \u001b[38;5;241m=\u001b[39m caches[L\u001b[38;5;241m-\u001b[39m\u001b[38;5;241m1\u001b[39m]\n\u001b[1;32m     31\u001b[0m dAL \u001b[38;5;241m=\u001b[39m \u001b[38;5;241m-\u001b[39m (np\u001b[38;5;241m.\u001b[39mdivide(Y, AL) \u001b[38;5;241m-\u001b[39m np\u001b[38;5;241m.\u001b[39mdivide((\u001b[38;5;241m1\u001b[39m \u001b[38;5;241m-\u001b[39m Y), (\u001b[38;5;241m1\u001b[39m \u001b[38;5;241m-\u001b[39m AL)))\n\u001b[0;32m---> 33\u001b[0m grads[\u001b[38;5;124m'\u001b[39m\u001b[38;5;124mdA\u001b[39m\u001b[38;5;124m'\u001b[39m \u001b[38;5;241m+\u001b[39m \u001b[38;5;28mstr\u001b[39m(L)], grads[\u001b[38;5;124m'\u001b[39m\u001b[38;5;124mdW\u001b[39m\u001b[38;5;124m'\u001b[39m \u001b[38;5;241m+\u001b[39m \u001b[38;5;28mstr\u001b[39m(L)], grads[\u001b[38;5;124m'\u001b[39m\u001b[38;5;124mdb\u001b[39m\u001b[38;5;124m'\u001b[39m \u001b[38;5;241m+\u001b[39m \u001b[38;5;28mstr\u001b[39m(L)] \u001b[38;5;241m=\u001b[39m \u001b[43mlinear_backward_activation_function\u001b[49m\u001b[43m(\u001b[49m\u001b[43mdAL\u001b[49m\u001b[43m,\u001b[49m\u001b[43m \u001b[49m\u001b[43mcur_cache\u001b[49m\u001b[43m,\u001b[49m\u001b[43m \u001b[49m\u001b[43mactivation_function\u001b[49m\u001b[38;5;241;43m=\u001b[39;49m\u001b[38;5;124;43m\"\u001b[39;49m\u001b[38;5;124;43msigmoid\u001b[39;49m\u001b[38;5;124;43m\"\u001b[39;49m\u001b[43m)\u001b[49m\n\u001b[1;32m     35\u001b[0m \u001b[38;5;28;01mfor\u001b[39;00m l \u001b[38;5;129;01min\u001b[39;00m \u001b[38;5;28mreversed\u001b[39m(\u001b[38;5;28mrange\u001b[39m(L\u001b[38;5;241m-\u001b[39m\u001b[38;5;241m1\u001b[39m)):\n\u001b[1;32m     36\u001b[0m   cur_cache \u001b[38;5;241m=\u001b[39m caches[l]\n",
            "Cell \u001b[0;32mIn[4], line 16\u001b[0m, in \u001b[0;36mlinear_backward_activation_function\u001b[0;34m(dA, cache, activation_function)\u001b[0m\n\u001b[1;32m     14\u001b[0m \u001b[38;5;28;01mif\u001b[39;00m activation_function \u001b[38;5;241m==\u001b[39m \u001b[38;5;124m'\u001b[39m\u001b[38;5;124msigmoid\u001b[39m\u001b[38;5;124m'\u001b[39m:\n\u001b[1;32m     15\u001b[0m   dZ \u001b[38;5;241m=\u001b[39m sigmoid_backwards(dA, activation_cache)\n\u001b[0;32m---> 16\u001b[0m   dA_prev, dW, db \u001b[38;5;241m=\u001b[39m \u001b[43mlinear_backwards\u001b[49m\u001b[43m(\u001b[49m\u001b[43mdZ\u001b[49m\u001b[43m,\u001b[49m\u001b[43m \u001b[49m\u001b[43mlinear_cache\u001b[49m\u001b[43m)\u001b[49m\n\u001b[1;32m     17\u001b[0m \u001b[38;5;28;01melif\u001b[39;00m activation_function \u001b[38;5;241m==\u001b[39m \u001b[38;5;124m'\u001b[39m\u001b[38;5;124mrelu\u001b[39m\u001b[38;5;124m'\u001b[39m:\n\u001b[1;32m     18\u001b[0m   dZ \u001b[38;5;241m=\u001b[39m relu_backwards(dA, activation_cache)\n",
            "Cell \u001b[0;32mIn[4], line 2\u001b[0m, in \u001b[0;36mlinear_backwards\u001b[0;34m(dZ, cache)\u001b[0m\n\u001b[1;32m      1\u001b[0m \u001b[38;5;28;01mdef\u001b[39;00m \u001b[38;5;21mlinear_backwards\u001b[39m(dZ, cache):\n\u001b[0;32m----> 2\u001b[0m   A_prev, W \u001b[38;5;241m=\u001b[39m cache\n\u001b[1;32m      3\u001b[0m   m \u001b[38;5;241m=\u001b[39m A_prev\u001b[38;5;241m.\u001b[39mshape[\u001b[38;5;241m1\u001b[39m]\n\u001b[1;32m      5\u001b[0m   dW \u001b[38;5;241m=\u001b[39m \u001b[38;5;241m1.\u001b[39m\u001b[38;5;241m/\u001b[39mm \u001b[38;5;241m*\u001b[39m np\u001b[38;5;241m.\u001b[39mdot(dZ,A_prev\u001b[38;5;241m.\u001b[39mT)\n",
            "\u001b[0;31mValueError\u001b[0m: too many values to unpack (expected 2)"
          ]
        }
      ],
      "source": [
        "X_train, Y_train, X_test, Y_test = load_data()\n",
        "layer_dims = [X_train.shape[0], 3, 4, 5, 6, 7, 4, 5, Y_train.shape[0]]\n",
        "parameters = nn_model(X_train, Y_train, layer_dims, learning_rate=1.2, iterations=2000, initialization='zeros')\n",
        "print(calculate_cost())"
      ]
    }
  ],
  "metadata": {
    "colab": {
      "provenance": []
    },
    "kernelspec": {
      "display_name": "Python 3 (ipykernel)",
      "language": "python",
      "name": "python3"
    },
    "language_info": {
      "codemirror_mode": {
        "name": "ipython",
        "version": 3
      },
      "file_extension": ".py",
      "mimetype": "text/x-python",
      "name": "python",
      "nbconvert_exporter": "python",
      "pygments_lexer": "ipython3",
      "version": "3.10.12"
    }
  },
  "nbformat": 4,
  "nbformat_minor": 0
}
