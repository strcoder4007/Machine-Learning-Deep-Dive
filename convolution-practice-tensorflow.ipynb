{
 "cells": [
  {
   "cell_type": "code",
   "execution_count": 107,
   "metadata": {},
   "outputs": [],
   "source": [
    "import math\n",
    "import numpy as np\n",
    "import h5py\n",
    "import matplotlib.pyplot as plt\n",
    "from matplotlib.pyplot import imread\n",
    "import scipy\n",
    "from PIL import Image\n",
    "import tensorflow as tf\n",
    "import tensorflow.keras.layers as tfl\n",
    "from tensorflow.python.framework import ops\n",
    "import pandas as pd\n",
    "\n",
    "%matplotlib inline\n",
    "np.random.seed(1)"
   ]
  },
  {
   "cell_type": "markdown",
   "metadata": {},
   "source": [
    "Load Data"
   ]
  },
  {
   "cell_type": "code",
   "execution_count": 108,
   "metadata": {},
   "outputs": [],
   "source": [
    "def load_happy_dataset():\n",
    "    train_dataset = h5py.File('../datasets/train_happy.h5', 'r')\n",
    "    train_set_x_og = np.array(train_dataset['train_set_x'][:])\n",
    "    train_set_y_og = np.array(train_dataset['train_set_y'][:])\n",
    "\n",
    "    test_dataset = h5py.File('../datasets/test_happy.h5', 'r')\n",
    "    test_set_x_og = np.array(test_dataset['test_set_x'][:])\n",
    "    test_set_y_og = np.array(test_dataset['test_set_y'][:])\n",
    "\n",
    "    classes = np.array(test_dataset['list_classes'][:])\n",
    "\n",
    "    train_set_y_og = train_set_y_og.reshape((1, train_set_y_og.shape[0]))\n",
    "    test_set_y_og = test_set_y_og.reshape((1, test_set_y_og.shape[0]))\n",
    "\n",
    "    return train_set_x_og, train_set_y_og, test_set_x_og, test_set_y_og, classes"
   ]
  },
  {
   "cell_type": "code",
   "execution_count": 109,
   "metadata": {},
   "outputs": [
    {
     "data": {
      "image/png": "[encoded data removed]",
      "text/plain": [
       "<Figure size 640x480 with 1 Axes>"
      ]
     },
     "metadata": {},
     "output_type": "display_data"
    }
   ],
   "source": [
    "X_train_OG, Y_train_OG, X_test_OG, Y_test_OG, classes = load_happy_dataset()\n",
    "\n",
    "X_train = X_train_OG/255.\n",
    "X_test = X_test_OG/255.\n",
    "\n",
    "Y_train = Y_train_OG.T\n",
    "Y_test = Y_test_OG.T\n",
    "\n",
    "index = 42\n",
    "plt.imshow(X_train_OG[index])\n",
    "plt.show()"
   ]
  },
  {
   "cell_type": "markdown",
   "metadata": {},
   "source": [
    "Model using sequential API"
   ]
  },
  {
   "cell_type": "code",
   "execution_count": 110,
   "metadata": {},
   "outputs": [
    {
     "name": "stdout",
     "output_type": "stream",
     "text": [
      "Epoch 1/50\n",
      "19/19 [==============================] - 1s 8ms/step - loss: 2.4544 - accuracy: 0.5883\n",
      "Epoch 2/50\n",
      "19/19 [==============================] - 0s 8ms/step - loss: 0.3521 - accuracy: 0.8467\n",
      "Epoch 3/50\n",
      "19/19 [==============================] - 0s 8ms/step - loss: 0.1821 - accuracy: 0.9267\n",
      "Epoch 4/50\n",
      "19/19 [==============================] - 0s 7ms/step - loss: 0.1478 - accuracy: 0.9417\n",
      "Epoch 5/50\n",
      "19/19 [==============================] - 0s 6ms/step - loss: 0.1349 - accuracy: 0.9517\n",
      "Epoch 6/50\n",
      "19/19 [==============================] - 0s 7ms/step - loss: 0.0988 - accuracy: 0.9700\n",
      "Epoch 7/50\n",
      "19/19 [==============================] - 0s 7ms/step - loss: 0.0724 - accuracy: 0.9800\n",
      "Epoch 8/50\n",
      "19/19 [==============================] - 0s 8ms/step - loss: 0.1213 - accuracy: 0.9550\n",
      "Epoch 9/50\n",
      "19/19 [==============================] - 0s 7ms/step - loss: 0.1013 - accuracy: 0.9667\n",
      "Epoch 10/50\n",
      "19/19 [==============================] - 0s 7ms/step - loss: 0.1118 - accuracy: 0.9633\n",
      "Epoch 11/50\n",
      "19/19 [==============================] - 0s 8ms/step - loss: 0.0723 - accuracy: 0.9783\n",
      "Epoch 12/50\n",
      "19/19 [==============================] - 0s 8ms/step - loss: 0.0572 - accuracy: 0.9850\n",
      "Epoch 13/50\n",
      "19/19 [==============================] - 0s 7ms/step - loss: 0.0487 - accuracy: 0.9833\n",
      "Epoch 14/50\n",
      "19/19 [==============================] - 0s 8ms/step - loss: 0.0496 - accuracy: 0.9883\n",
      "Epoch 15/50\n",
      "19/19 [==============================] - 0s 8ms/step - loss: 0.0998 - accuracy: 0.9600\n",
      "Epoch 16/50\n",
      "19/19 [==============================] - 0s 8ms/step - loss: 0.0763 - accuracy: 0.9733\n",
      "Epoch 17/50\n",
      "19/19 [==============================] - 0s 7ms/step - loss: 0.0719 - accuracy: 0.9817\n",
      "Epoch 18/50\n",
      "19/19 [==============================] - 0s 8ms/step - loss: 0.0667 - accuracy: 0.9833\n",
      "Epoch 19/50\n",
      "19/19 [==============================] - 0s 7ms/step - loss: 0.0805 - accuracy: 0.9667\n",
      "Epoch 20/50\n",
      "19/19 [==============================] - 0s 9ms/step - loss: 0.0453 - accuracy: 0.9867\n",
      "Epoch 21/50\n",
      "19/19 [==============================] - 0s 7ms/step - loss: 0.0458 - accuracy: 0.9867\n",
      "Epoch 22/50\n",
      "19/19 [==============================] - 0s 6ms/step - loss: 0.0396 - accuracy: 0.9900\n",
      "Epoch 23/50\n",
      "19/19 [==============================] - 0s 7ms/step - loss: 0.0439 - accuracy: 0.9867\n",
      "Epoch 24/50\n",
      "19/19 [==============================] - 0s 7ms/step - loss: 0.0359 - accuracy: 0.9900\n",
      "Epoch 25/50\n",
      "19/19 [==============================] - 0s 7ms/step - loss: 0.0289 - accuracy: 0.9900\n",
      "Epoch 26/50\n",
      "19/19 [==============================] - 0s 7ms/step - loss: 0.0133 - accuracy: 1.0000\n",
      "Epoch 27/50\n",
      "19/19 [==============================] - 0s 7ms/step - loss: 0.0175 - accuracy: 0.9933\n",
      "Epoch 28/50\n",
      "19/19 [==============================] - 0s 7ms/step - loss: 0.0208 - accuracy: 0.9950\n",
      "Epoch 29/50\n",
      "19/19 [==============================] - 0s 7ms/step - loss: 0.0199 - accuracy: 0.9933\n",
      "Epoch 30/50\n",
      "19/19 [==============================] - 0s 7ms/step - loss: 0.0182 - accuracy: 0.9950\n",
      "Epoch 31/50\n",
      "19/19 [==============================] - 0s 7ms/step - loss: 0.0260 - accuracy: 0.9933\n",
      "Epoch 32/50\n",
      "19/19 [==============================] - 0s 8ms/step - loss: 0.0404 - accuracy: 0.9883\n",
      "Epoch 33/50\n",
      "19/19 [==============================] - 0s 7ms/step - loss: 0.0141 - accuracy: 0.9967\n",
      "Epoch 34/50\n",
      "19/19 [==============================] - 0s 8ms/step - loss: 0.0187 - accuracy: 0.9950\n",
      "Epoch 35/50\n",
      "19/19 [==============================] - 0s 7ms/step - loss: 0.0209 - accuracy: 0.9933\n",
      "Epoch 36/50\n",
      "19/19 [==============================] - 0s 7ms/step - loss: 0.0319 - accuracy: 0.9883\n",
      "Epoch 37/50\n",
      "19/19 [==============================] - 0s 7ms/step - loss: 0.0577 - accuracy: 0.9733\n",
      "Epoch 38/50\n",
      "19/19 [==============================] - 0s 8ms/step - loss: 0.0414 - accuracy: 0.9900\n",
      "Epoch 39/50\n",
      "19/19 [==============================] - 0s 7ms/step - loss: 0.0322 - accuracy: 0.9900\n",
      "Epoch 40/50\n",
      "19/19 [==============================] - 0s 9ms/step - loss: 0.0200 - accuracy: 0.9900\n",
      "Epoch 41/50\n",
      "19/19 [==============================] - 0s 8ms/step - loss: 0.0306 - accuracy: 0.9833\n",
      "Epoch 42/50\n",
      "19/19 [==============================] - 0s 9ms/step - loss: 0.0277 - accuracy: 0.9900\n",
      "Epoch 43/50\n",
      "19/19 [==============================] - 0s 7ms/step - loss: 0.0157 - accuracy: 0.9950\n",
      "Epoch 44/50\n",
      "19/19 [==============================] - 0s 7ms/step - loss: 0.0374 - accuracy: 0.9900\n",
      "Epoch 45/50\n",
      "19/19 [==============================] - 0s 8ms/step - loss: 0.0125 - accuracy: 0.9967\n",
      "Epoch 46/50\n",
      "19/19 [==============================] - 0s 7ms/step - loss: 0.0216 - accuracy: 0.9950\n",
      "Epoch 47/50\n",
      "19/19 [==============================] - 0s 7ms/step - loss: 0.0244 - accuracy: 0.9950\n",
      "Epoch 48/50\n",
      "19/19 [==============================] - 0s 7ms/step - loss: 0.0197 - accuracy: 0.9950\n",
      "Epoch 49/50\n",
      "19/19 [==============================] - 0s 7ms/step - loss: 0.0254 - accuracy: 0.9917\n",
      "Epoch 50/50\n",
      "19/19 [==============================] - 0s 7ms/step - loss: 0.0273 - accuracy: 0.9867\n"
     ]
    },
    {
     "data": {
      "text/plain": [
       "<keras.src.callbacks.History at 0x7fad6dedfd60>"
      ]
     },
     "execution_count": 110,
     "metadata": {},
     "output_type": "execute_result"
    }
   ],
   "source": [
    "def sequential_model():\n",
    "    model = tf.keras.Sequential([\n",
    "        tf.keras.layers.ZeroPadding2D(padding=(3, 3), input_shape=(64, 64, 3), data_format=\"channels_last\"),\n",
    "        tf.keras.layers.Conv2D(32, (7, 7), strides=(1, 1), name='conv0'),\n",
    "        tf.keras.layers.BatchNormalization(axis=3, name='bn0'),\n",
    "        tf.keras.layers.ReLU(max_value=None, negative_slope=0.0, threshold=0.0),\n",
    "        tf.keras.layers.MaxPooling2D((2, 2), name='max_pool0'),\n",
    "        tf.keras.layers.Flatten(),\n",
    "        tf.keras.layers.Dense(1, activation='sigmoid', name='fc')\n",
    "    ])\n",
    "    return model\n",
    "\n",
    "sqm = sequential_model()\n",
    "sqm.compile(optimizer='adam', loss='binary_crossentropy', metrics=['accuracy'])\n",
    "sqm.fit(X_train, Y_train, epochs=50, batch_size=32)"
   ]
  },
  {
   "cell_type": "markdown",
   "metadata": {},
   "source": [
    "Model using Functional API"
   ]
  },
  {
   "cell_type": "code",
   "execution_count": 112,
   "metadata": {},
   "outputs": [],
   "source": [
    "def functional_model(input_shape):\n",
    "    input_img = tf.keras.Input(input_shape)\n",
    "    ## CONV2D: 8 filters 4x4, stride of 1, padding 'SAME'\n",
    "    Z1 = tf.keras.layers.Conv2D(filters=8, kernel_size=(4, 4), strides=(1, 1), padding='same')(input_img)\n",
    "    ## RELU\n",
    "    A1 = tf.keras.layers.ReLU()(Z1)\n",
    "    ## MAXPOOL: window 8x8, stride 8, padding 'SAME'\n",
    "    P1 = tf.keras.layers.MaxPooling2D(pool_size=(8, 8), strides=(8, 8), padding='same')(A1)\n",
    "    ## CONV2D: 16 filters 2x2, stride 1, padding 'SAME'\n",
    "    Z2 = tf.keras.layers.Conv2D(filters=16, kernel_size=(2, 2), strides=(1, 1), padding='same')(P1)\n",
    "    ## RELU\n",
    "    A2 = tf.keras.layers.ReLU(max_value=None, negative_slope=0.0, threshold=0.0)(Z2)\n",
    "    ## MAXPOOL: window 4x4, stride 4, padding 'SAME'\n",
    "    P2 = tf.keras.layers.MaxPooling2D(pool_size=(4, 4), strides=(4, 4), padding='same')(A2)\n",
    "    ## FLATTEN\n",
    "    F = tf.keras.layers.Flatten()(P2)\n",
    "    ## Dense layer\n",
    "    outputs = tf.keras.layers.Dense(units=6, activation='softmax')(F)\n",
    "\n",
    "    model = tf.keras.Model(inputs=input_img, outputs=outputs)\n",
    "    return model\n",
    "\n",
    "conv_model = functional_model((64, 64, 3))"
   ]
  },
  {
   "cell_type": "markdown",
   "metadata": {},
   "source": [
    "Train the model"
   ]
  },
  {
   "cell_type": "code",
   "execution_count": null,
   "metadata": {},
   "outputs": [],
   "source": [
    "train_dataset = tf.data.Dataset.from_tensor_slices((X_train, Y_train)).batch(64)\n",
    "test_dataset = tf.data.Dataset.from_tensor_slices((X_test, Y_test)).batch(64)\n",
    "history = conv_model.fit(train_dataset, epochs=100, validation=test_dataset)"
   ]
  },
  {
   "cell_type": "markdown",
   "metadata": {},
   "source": [
    "Plot loss graph"
   ]
  },
  {
   "cell_type": "code",
   "execution_count": null,
   "metadata": {},
   "outputs": [],
   "source": [
    "df_loss_acc = pd.DataFrame(history.history)\n",
    "df_loss= df_loss_acc[['loss','val_loss']]\n",
    "df_loss.rename(columns={'loss':'train','val_loss':'validation'},inplace=True)\n",
    "df_acc= df_loss_acc[['accuracy','val_accuracy']]\n",
    "df_acc.rename(columns={'accuracy':'train','val_accuracy':'validation'},inplace=True)\n",
    "df_loss.plot(title='Model loss',figsize=(12,8)).set(xlabel='Epoch',ylabel='Loss')\n",
    "df_acc.plot(title='Model Accuracy',figsize=(12,8)).set(xlabel='Epoch',ylabel='Accuracy')"
   ]
  }
 ],
 "metadata": {
  "kernelspec": {
   "display_name": "Python 3 (ipykernel)",
   "language": "python",
   "name": "python3"
  },
  "language_info": {
   "codemirror_mode": {
    "name": "ipython",
    "version": 3
   },
   "file_extension": ".py",
   "mimetype": "text/x-python",
   "name": "python",
   "nbconvert_exporter": "python",
   "pygments_lexer": "ipython3",
   "version": "3.10.12"
  }
 },
 "nbformat": 4,
 "nbformat_minor": 2
}
