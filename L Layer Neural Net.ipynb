{
  "nbformat": 4,
  "nbformat_minor": 0,
  "metadata": {
    "colab": {
      "provenance": []
    },
    "kernelspec": {
      "name": "python3",
      "display_name": "Python 3"
    },
    "language_info": {
      "name": "python"
    }
  },
  "cells": [
    {
      "cell_type": "code",
      "execution_count": 25,
      "metadata": {
        "id": "1qiAFuelWV5t"
      },
      "outputs": [],
      "source": [
        "# prompt: Load dataset from Files section named 'Test Cat vs Noncat.h5'\n",
        "\n",
        "import time\n",
        "import h5py\n",
        "import numpy as np\n",
        "import matplotlib.pyplot as plt"
      ]
    },
    {
      "cell_type": "markdown",
      "source": [
        "###Define utility functions"
      ],
      "metadata": {
        "id": "AqfSkkIpO_C8"
      }
    },
    {
      "cell_type": "code",
      "source": [
        "def load_data():\n",
        "  train_dataset = h5py.File('/content/train_catvnoncat.h5', 'r')\n",
        "  og_train_set_x = np.array(train_dataset['train_set_x'])[:] # Features\n",
        "  og_train_set_y = np.array(train_dataset['train_set_y'])[:] # Labels\n",
        "\n",
        "  test_dataset = h5py.File('/content/test_catvnoncat.h5', 'r')\n",
        "  og_test_set_x = np.array(test_dataset['test_set_x'])[:]\n",
        "  og_test_set_y = np.array(test_dataset['test_set_y'])[:]\n",
        "\n",
        "  classes = np.array(train_dataset['list_classes'])[:]\n",
        "\n",
        "  # og_train_set_y was (209, ) I dont know what that means\n",
        "  # we are converting it into [1, 209] though\n",
        "  og_train_set_y = og_train_set_y.reshape((1, og_train_set_y.shape[0]))\n",
        "  og_test_set_y = og_test_set_y.reshape((1, og_test_set_y.shape[0]))\n",
        "\n",
        "  return og_train_set_x, og_train_set_y, og_test_set_x, og_test_set_y, classes\n",
        "\n",
        "def sigmoid(Z):\n",
        "  A = (1/(1 + np.exp(-Z)))\n",
        "  # Dont yet know why are we caching,\n",
        "  # and how does caching like this works in python\n",
        "  cache = A\n",
        "  return A, cache\n",
        "\n",
        "def relu(Z):\n",
        "  A = np.maximum(0, Z)\n",
        "  cache = A\n",
        "  return A, cache\n",
        "\n",
        "\n",
        "# def initialize_parameters(X_train, Y_train):\n",
        "\n",
        "# def forward_propagation(X_train, parameters): #calculate cache\n",
        "\n",
        "# def backward_propagation(parameters, Y_train): #calculates gradients\n",
        "\n",
        "# def calculate_cost(gradients):\n",
        "\n",
        "# def update_parameters(parameters, gradients, learning_rate=1.15):\n",
        "\n",
        "# def nn_model(X, y, iterations=1000, print_cost=False):\n",
        "#   m = X.shape[1]\n",
        "\n",
        "data = load_data()"
      ],
      "metadata": {
        "colab": {
          "base_uri": "https://localhost:8080/",
          "height": 339
        },
        "id": "8pYanq_WO-hj",
        "outputId": "1162a048-c57d-421e-cf71-3aca16887e72"
      },
      "execution_count": 35,
      "outputs": [
        {
          "output_type": "error",
          "ename": "IndexError",
          "evalue": "tuple index out of range",
          "traceback": [
            "\u001b[0;31m---------------------------------------------------------------------------\u001b[0m",
            "\u001b[0;31mIndexError\u001b[0m                                Traceback (most recent call last)",
            "\u001b[0;32m<ipython-input-35-6e4d9bfd5b2e>\u001b[0m in \u001b[0;36m<cell line: 31>\u001b[0;34m()\u001b[0m\n\u001b[1;32m     29\u001b[0m \u001b[0;31m#   m = X.shape[1]\u001b[0m\u001b[0;34m\u001b[0m\u001b[0;34m\u001b[0m\u001b[0m\n\u001b[1;32m     30\u001b[0m \u001b[0;34m\u001b[0m\u001b[0m\n\u001b[0;32m---> 31\u001b[0;31m \u001b[0mdata\u001b[0m \u001b[0;34m=\u001b[0m \u001b[0mload_data\u001b[0m\u001b[0;34m(\u001b[0m\u001b[0;34m)\u001b[0m\u001b[0;34m\u001b[0m\u001b[0;34m\u001b[0m\u001b[0m\n\u001b[0m",
            "\u001b[0;32m<ipython-input-35-6e4d9bfd5b2e>\u001b[0m in \u001b[0;36mload_data\u001b[0;34m()\u001b[0m\n\u001b[1;32m     10\u001b[0m   \u001b[0mclasses\u001b[0m \u001b[0;34m=\u001b[0m \u001b[0mnp\u001b[0m\u001b[0;34m.\u001b[0m\u001b[0marray\u001b[0m\u001b[0;34m(\u001b[0m\u001b[0mtrain_dataset\u001b[0m\u001b[0;34m[\u001b[0m\u001b[0;34m'list_classes'\u001b[0m\u001b[0;34m]\u001b[0m\u001b[0;34m)\u001b[0m\u001b[0;34m[\u001b[0m\u001b[0;34m:\u001b[0m\u001b[0;34m]\u001b[0m\u001b[0;34m\u001b[0m\u001b[0;34m\u001b[0m\u001b[0m\n\u001b[1;32m     11\u001b[0m \u001b[0;34m\u001b[0m\u001b[0m\n\u001b[0;32m---> 12\u001b[0;31m   \u001b[0mprint\u001b[0m\u001b[0;34m(\u001b[0m\u001b[0mog_train_set_y\u001b[0m\u001b[0;34m.\u001b[0m\u001b[0mshape\u001b[0m\u001b[0;34m[\u001b[0m\u001b[0;36m1\u001b[0m\u001b[0;34m]\u001b[0m\u001b[0;34m)\u001b[0m\u001b[0;34m\u001b[0m\u001b[0;34m\u001b[0m\u001b[0m\n\u001b[0m\u001b[1;32m     13\u001b[0m \u001b[0;34m\u001b[0m\u001b[0m\n\u001b[1;32m     14\u001b[0m   \u001b[0mprint\u001b[0m\u001b[0;34m(\u001b[0m\u001b[0mog_test_set_y\u001b[0m\u001b[0;34m.\u001b[0m\u001b[0mshape\u001b[0m\u001b[0;34m[\u001b[0m\u001b[0;36m0\u001b[0m\u001b[0;34m]\u001b[0m\u001b[0;34m)\u001b[0m\u001b[0;34m\u001b[0m\u001b[0;34m\u001b[0m\u001b[0m\n",
            "\u001b[0;31mIndexError\u001b[0m: tuple index out of range"
          ]
        }
      ]
    }
  ]
}