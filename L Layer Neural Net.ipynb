{
  "cells": [
    {
      "cell_type": "code",
      "execution_count": 14,
      "metadata": {
        "colab": {
          "base_uri": "https://localhost:8080/"
        },
        "id": "1qiAFuelWV5t",
        "outputId": "a4d18120-07eb-4626-bead-69be9c2a954d"
      },
      "outputs": [
        {
          "name": "stdout",
          "output_type": "stream",
          "text": [
            "The autoreload extension is already loaded. To reload it, use:\n",
            "  %reload_ext autoreload\n"
          ]
        }
      ],
      "source": [
        "# prompt: Load dataset from Files section named 'Test Cat vs Noncat.h5'\n",
        "\n",
        "import time\n",
        "import h5py\n",
        "import numpy as np\n",
        "import matplotlib.pyplot as plt\n",
        "import scipy\n",
        "from PIL import Image\n",
        "from scipy import ndimage\n",
        "\n",
        "%matplotlib inline\n",
        "plt.rcParams['figure.figsize'] = (5.0, 4.0) # set default size of plots\n",
        "plt.rcParams['image.interpolation'] = 'nearest'\n",
        "plt.rcParams['image.cmap'] = 'gray'\n",
        "\n",
        "%load_ext autoreload\n",
        "%autoreload 2\n",
        "\n",
        "np.random.seed(1)"
      ]
    },
    {
      "cell_type": "markdown",
      "metadata": {
        "id": "AqfSkkIpO_C8"
      },
      "source": [
        "###Define utility functions"
      ]
    },
    {
      "cell_type": "code",
      "execution_count": 15,
      "metadata": {
        "id": "8pYanq_WO-hj"
      },
      "outputs": [],
      "source": [
        "def load_data():\n",
        "  train_dataset = h5py.File('/content/train_catvnoncat.h5', 'r')\n",
        "  og_train_set_x = np.array(train_dataset['train_set_x'][:]) # Features\n",
        "  og_train_set_y = np.array(train_dataset['train_set_y'][:]) # Labels\n",
        "\n",
        "  test_dataset = h5py.File('/content/test_catvnoncat.h5', 'r')\n",
        "  og_test_set_x = np.array(test_dataset['test_set_x'][:])\n",
        "  og_test_set_y = np.array(test_dataset['test_set_y'][:])\n",
        "\n",
        "  classes = np.array(train_dataset['list_classes'][:])\n",
        "\n",
        "  og_train_set_y = og_train_set_y.reshape((1, og_train_set_y.shape[0]))\n",
        "  og_test_set_y = og_test_set_y.reshape((1, og_test_set_y.shape[0]))\n",
        "\n",
        "  return og_train_set_x, og_train_set_y, og_test_set_x, og_test_set_y, classes\n",
        "\n",
        "def sigmoid(Z):\n",
        "  A = (1/(1 + np.exp(-Z)))\n",
        "  cache = A\n",
        "  return A, cache\n",
        "\n",
        "\n",
        "def relu(Z):\n",
        "  A = np.maximum(0, Z)\n",
        "  cache = A\n",
        "  return A, cache\n",
        "\n",
        "\n",
        "def initialize_parameters(layer_dims):\n",
        "  L = len(layer_dims)\n",
        "  parameters = {}\n",
        "\n",
        "  for l in range(1, L):\n",
        "    parameters['W' + str(l)] = np.random.randn(layer_dims[l], layer_dims[l-1]) / np.sqrt(layer_dims[l-1])\n",
        "    parameters['b' + str(l)] = np.zeros((layer_dims[l], 1))\n",
        "\n",
        "  return parameters"
      ]
    },
    {
      "cell_type": "markdown",
      "metadata": {
        "id": "Q4zv4CWOXT5X"
      },
      "source": [
        "###Forward"
      ]
    },
    {
      "cell_type": "code",
      "execution_count": 16,
      "metadata": {
        "id": "Y5GtEZD2XVxb"
      },
      "outputs": [],
      "source": [
        "def linear_forward(A, W, b):\n",
        "  Z = W.dot(A) + b\n",
        "  cache = Z\n",
        "  return Z, cache\n",
        "\n",
        "def linear_activation_function(X, W, b, activation_function='relu'):\n",
        "  Z, linear_cache = linear_forward(X, W, b)\n",
        "  if activation_function == 'sigmoid':\n",
        "    A, activation_cache = sigmoid(Z)\n",
        "  if activation_function == 'relu':\n",
        "    A, activation_cache = relu(Z)\n",
        "  cache = (linear_cache, activation_cache)\n",
        "  return A, cache\n",
        "\n",
        "\n",
        "def forward_propagation(X, parameters): #calculate cache\n",
        "  caches = []\n",
        "  A = X\n",
        "  L = len(parameters) // 2\n",
        "  for l in range(1, L):\n",
        "      prev_A = A\n",
        "      A, cache = linear_activation_function(prev_A, parameters['W' + str(l)], parameters['b' + str(l)], activation_function='relu')\n",
        "      caches.append(cache)\n",
        "\n",
        "  AL, cache = linear_activation_function(A, parameters['W' + str(L)], parameters['b' + str(l)], activation_function='sigmoid')\n",
        "  caches.append(cache)\n",
        "\n",
        "  return AL, caches\n",
        "\n",
        "\n",
        "def calculate_cost(AL, Y):\n",
        "  m = AL.shape[1]\n",
        "  J = (1/m) * (-np.dot(Y, np.log(AL).T) - np.dot((1-Y), np.log(1-AL).T))\n",
        "  return np.squeeze(J)\n"
      ]
    },
    {
      "cell_type": "markdown",
      "metadata": {
        "id": "cpgh5p8eRvJ6"
      },
      "source": [
        "###Back Prop"
      ]
    },
    {
      "cell_type": "code",
      "execution_count": 17,
      "metadata": {
        "id": "RNBIUkjPRx5N"
      },
      "outputs": [],
      "source": [
        "def relu_backwards(dA, cache):\n",
        "    Z = cache\n",
        "    dZ = np.array(dA, copy=True)\n",
        "    # When z <= 0, you should set dz to 0 as well.\n",
        "    dZ[Z <= 0] = 0\n",
        "    return dZ\n",
        "\n",
        "def sigmoid_backwards(dA, cache):\n",
        "    Z = cache\n",
        "    s = 1/(1+np.exp(-Z))\n",
        "    dZ = dA * s * (1-s)\n",
        "    return dZ\n",
        "\n",
        "def linear_backwards(dZ, cache):\n",
        "  A_prev, W, b = cache\n",
        "  m = A_prev.shape[1]\n",
        "\n",
        "  dW = 1./m * np.dot(dZ,A_prev.T)\n",
        "  db = 1./m * np.sum(dZ, axis = 1, keepdims = True)\n",
        "  dA_prev = np.dot(W.T,dZ)\n",
        "\n",
        "  return dA_prev, dW, db\n",
        "\n",
        "\n",
        "def linear_backward_activation_function(dA, cache, activation_function):\n",
        "  linear_cache, activation_cache = cache\n",
        "  if activation_function == 'sigmoid':\n",
        "    dZ = sigmoid_backwards(dA, activation_cache)\n",
        "    dA_prev, dW, db = linear_backwards(dZ, linear_cache)\n",
        "  elif activation_function == 'relu':\n",
        "    dZ = relu_backwards(dA, activation_cache)\n",
        "    dA_prev, dW, db = linear_backwards(dZ, linear_cache)\n",
        "\n",
        "  return dA_prev, dW, db\n",
        "\n",
        "\n",
        "def backward_propagation(AL, Y, caches): #calculates gradients\n",
        "  grads = []\n",
        "  L = len(caches)\n",
        "  m = AL.shape[1]\n",
        "  Y = Y.reshape(AL.shape)\n",
        "\n",
        "  cur_cache = caches[L-1]\n",
        "  dAL = - (np.divide(Y, AL) - np.divide((1 - Y), (1 - AL)))\n",
        "  grads['dA' + str(L)], grads['dW' + str(L)], grads['db' + str(L)] = linear_backward_activation_function(dAL, cur_cache, activation_function=\"sigmoid\")\n",
        "\n",
        "  for l in reversed(range(L-1)):\n",
        "    cur_cache = caches[l]\n",
        "    grads['dA' + str(l + 1)], grads['dW' + str(l + 1)], grads['db' + str(l + 1)] = linear_backward_activation_function('dA' + str(l + 2), cur_cache, activation_function=\"relu\")\n",
        "\n",
        "  return grads\n",
        "\n",
        "def update_parameters(parameters, gradients, learning_rate=1.15):\n",
        "  L = len(parameters) // 2\n",
        "  for l in range(L):\n",
        "    parameters['W'+str(l+1)] = parameters['W'+str(l+1)] - learning_rate * gradients['dW'+str(l+1)]\n",
        "    parameters['b'+str(l+1)] = parameters['b'+str(l+1)] - learning_rate * gradients['db'+str(l+1)]\n",
        "  return parameters"
      ]
    },
    {
      "cell_type": "markdown",
      "metadata": {
        "id": "aXQDwGspWcLs"
      },
      "source": [
        "##Model"
      ]
    },
    {
      "cell_type": "code",
      "execution_count": 18,
      "metadata": {
        "id": "EqLpUvKoWev7"
      },
      "outputs": [],
      "source": [
        "def nn_model(X, Y, layer_dims, learning_rate=1.2, iterations=1000, print_cost=False):\n",
        "  np.random.seed(1)\n",
        "  costs = []\n",
        "  parameters = initialize_parameters(layer_dims)\n",
        "  for i in range(0, iterations):\n",
        "    AL, caches = forward_propagation(X, parameters)\n",
        "    cost = calculate_cost(AL, Y)\n",
        "    grads = backward_propagation(AL, Y, caches)\n",
        "    parameters = update_parameters(parameters, grads, learning_rate)\n",
        "    if print_cost and i % 1000 == 0:\n",
        "        print (\"Cost after iteration %i: %f\" %(i, cost))\n",
        "    if print_cost and i % 100 == 0:\n",
        "        costs.append(cost)\n",
        "\n",
        "  plt.plot(np.squeeze(costs))\n",
        "  plt.ylabel('cost')\n",
        "  plt.xlabel('iterations')\n",
        "  plt.title('Learning Rate: ' + str(learning_rate))\n",
        "  plt.show()\n",
        "  return parameters\n"
      ]
    },
    {
      "cell_type": "markdown",
      "metadata": {
        "id": "nR3tigweNTQP"
      },
      "source": [
        "###Load Data"
      ]
    },
    {
      "cell_type": "code",
      "execution_count": 19,
      "metadata": {
        "colab": {
          "base_uri": "https://localhost:8080/",
          "height": 389
        },
        "id": "lOoxMCCdNVar",
        "outputId": "e9171a15-e916-44cc-a3ca-6569b4ded6c6"
      },
      "outputs": [
        {
          "name": "stdout",
          "output_type": "stream",
          "text": [
            "y = 1. It's a cat picture.\n"
          ]
        },
        {
          "data": {
            "image/png": "[encoded data removed]",
            "text/plain": [
              "<Figure size 500x400 with 1 Axes>"
            ]
          },
          "metadata": {},
          "output_type": "display_data"
        }
      ],
      "source": [
        "X_train, Y_train, X_test, Y_test, classes = load_data()\n",
        "index = 42\n",
        "plt.imshow(X_train[index])\n",
        "print (\"y = \" + str(Y_train[0,index]) + \". It's a \" + classes[Y_train[0,index]].decode(\"utf-8\") +  \" picture.\")"
      ]
    },
    {
      "cell_type": "markdown",
      "metadata": {
        "id": "z3PNtXOGsCj4"
      },
      "source": [
        "##Trigger"
      ]
    },
    {
      "cell_type": "code",
      "execution_count": 20,
      "metadata": {
        "colab": {
          "base_uri": "https://localhost:8080/",
          "height": 399
        },
        "id": "-IU9w39dsFLw",
        "outputId": "37958a1c-d1c9-4c72-89e6-ee84cae694c4"
      },
      "outputs": [
        {
          "name": "stdout",
          "output_type": "stream",
          "text": [
            "(5, 209)\n",
            "(1, 209)\n"
          ]
        },
        {
          "ename": "ValueError",
          "evalue": "cannot reshape array of size 209 into shape (209,5)",
          "output_type": "error",
          "traceback": [
            "\u001b[0;31m---------------------------------------------------------------------------\u001b[0m",
            "\u001b[0;31mValueError\u001b[0m                                Traceback (most recent call last)",
            "\u001b[0;32m<ipython-input-20-1b64c6370a4b>\u001b[0m in \u001b[0;36m<cell line: 11>\u001b[0;34m()\u001b[0m\n\u001b[1;32m      9\u001b[0m \u001b[0mlayer_dims\u001b[0m \u001b[0;34m=\u001b[0m \u001b[0;34m[\u001b[0m\u001b[0;36m12288\u001b[0m\u001b[0;34m,\u001b[0m \u001b[0;36m20\u001b[0m\u001b[0;34m,\u001b[0m \u001b[0;36m7\u001b[0m\u001b[0;34m,\u001b[0m \u001b[0;36m5\u001b[0m\u001b[0;34m,\u001b[0m \u001b[0;36m1\u001b[0m\u001b[0;34m]\u001b[0m\u001b[0;34m\u001b[0m\u001b[0;34m\u001b[0m\u001b[0m\n\u001b[1;32m     10\u001b[0m \u001b[0;34m\u001b[0m\u001b[0m\n\u001b[0;32m---> 11\u001b[0;31m \u001b[0mparameters\u001b[0m \u001b[0;34m=\u001b[0m \u001b[0mnn_model\u001b[0m\u001b[0;34m(\u001b[0m\u001b[0mX_train\u001b[0m\u001b[0;34m,\u001b[0m \u001b[0mY_train\u001b[0m\u001b[0;34m,\u001b[0m \u001b[0mlayer_dims\u001b[0m\u001b[0;34m,\u001b[0m \u001b[0mlearning_rate\u001b[0m\u001b[0;34m=\u001b[0m\u001b[0;36m1.2\u001b[0m\u001b[0;34m,\u001b[0m \u001b[0miterations\u001b[0m\u001b[0;34m=\u001b[0m\u001b[0;36m10000\u001b[0m\u001b[0;34m,\u001b[0m \u001b[0mprint_cost\u001b[0m\u001b[0;34m=\u001b[0m\u001b[0;32mTrue\u001b[0m\u001b[0;34m)\u001b[0m\u001b[0;34m\u001b[0m\u001b[0;34m\u001b[0m\u001b[0m\n\u001b[0m",
            "\u001b[0;32m<ipython-input-18-c5e68a4dfc9c>\u001b[0m in \u001b[0;36mnn_model\u001b[0;34m(X, Y, layer_dims, learning_rate, iterations, print_cost)\u001b[0m\n\u001b[1;32m      6\u001b[0m     \u001b[0mAL\u001b[0m\u001b[0;34m,\u001b[0m \u001b[0mcaches\u001b[0m \u001b[0;34m=\u001b[0m \u001b[0mforward_propagation\u001b[0m\u001b[0;34m(\u001b[0m\u001b[0mX\u001b[0m\u001b[0;34m,\u001b[0m \u001b[0mparameters\u001b[0m\u001b[0;34m)\u001b[0m\u001b[0;34m\u001b[0m\u001b[0;34m\u001b[0m\u001b[0m\n\u001b[1;32m      7\u001b[0m     \u001b[0mcost\u001b[0m \u001b[0;34m=\u001b[0m \u001b[0mcalculate_cost\u001b[0m\u001b[0;34m(\u001b[0m\u001b[0mAL\u001b[0m\u001b[0;34m,\u001b[0m \u001b[0mY\u001b[0m\u001b[0;34m)\u001b[0m\u001b[0;34m\u001b[0m\u001b[0;34m\u001b[0m\u001b[0m\n\u001b[0;32m----> 8\u001b[0;31m     \u001b[0mgrads\u001b[0m \u001b[0;34m=\u001b[0m \u001b[0mbackward_propagation\u001b[0m\u001b[0;34m(\u001b[0m\u001b[0mAL\u001b[0m\u001b[0;34m,\u001b[0m \u001b[0mY\u001b[0m\u001b[0;34m,\u001b[0m \u001b[0mcaches\u001b[0m\u001b[0;34m)\u001b[0m\u001b[0;34m\u001b[0m\u001b[0;34m\u001b[0m\u001b[0m\n\u001b[0m\u001b[1;32m      9\u001b[0m     \u001b[0mparameters\u001b[0m \u001b[0;34m=\u001b[0m \u001b[0mupdate_parameters\u001b[0m\u001b[0;34m(\u001b[0m\u001b[0mparameters\u001b[0m\u001b[0;34m,\u001b[0m \u001b[0mgrads\u001b[0m\u001b[0;34m,\u001b[0m \u001b[0mlearning_rate\u001b[0m\u001b[0;34m)\u001b[0m\u001b[0;34m\u001b[0m\u001b[0;34m\u001b[0m\u001b[0m\n\u001b[1;32m     10\u001b[0m     \u001b[0;32mif\u001b[0m \u001b[0mprint_cost\u001b[0m \u001b[0;32mand\u001b[0m \u001b[0mi\u001b[0m \u001b[0;34m%\u001b[0m \u001b[0;36m1000\u001b[0m \u001b[0;34m==\u001b[0m \u001b[0;36m0\u001b[0m\u001b[0;34m:\u001b[0m\u001b[0;34m\u001b[0m\u001b[0;34m\u001b[0m\u001b[0m\n",
            "\u001b[0;32m<ipython-input-17-b3cec9bfbf5b>\u001b[0m in \u001b[0;36mbackward_propagation\u001b[0;34m(AL, Y, caches)\u001b[0m\n\u001b[1;32m     41\u001b[0m   \u001b[0mprint\u001b[0m\u001b[0;34m(\u001b[0m\u001b[0mAL\u001b[0m\u001b[0;34m.\u001b[0m\u001b[0mshape\u001b[0m\u001b[0;34m)\u001b[0m\u001b[0;34m\u001b[0m\u001b[0;34m\u001b[0m\u001b[0m\n\u001b[1;32m     42\u001b[0m   \u001b[0mprint\u001b[0m\u001b[0;34m(\u001b[0m\u001b[0mY\u001b[0m\u001b[0;34m.\u001b[0m\u001b[0mshape\u001b[0m\u001b[0;34m)\u001b[0m\u001b[0;34m\u001b[0m\u001b[0;34m\u001b[0m\u001b[0m\n\u001b[0;32m---> 43\u001b[0;31m   \u001b[0mY\u001b[0m \u001b[0;34m=\u001b[0m \u001b[0mY\u001b[0m\u001b[0;34m.\u001b[0m\u001b[0mreshape\u001b[0m\u001b[0;34m(\u001b[0m\u001b[0mAL\u001b[0m\u001b[0;34m.\u001b[0m\u001b[0mT\u001b[0m\u001b[0;34m.\u001b[0m\u001b[0mshape\u001b[0m\u001b[0;34m)\u001b[0m\u001b[0;34m\u001b[0m\u001b[0;34m\u001b[0m\u001b[0m\n\u001b[0m\u001b[1;32m     44\u001b[0m \u001b[0;34m\u001b[0m\u001b[0m\n\u001b[1;32m     45\u001b[0m   \u001b[0mcur_cache\u001b[0m \u001b[0;34m=\u001b[0m \u001b[0mcaches\u001b[0m\u001b[0;34m[\u001b[0m\u001b[0mL\u001b[0m\u001b[0;34m-\u001b[0m\u001b[0;36m1\u001b[0m\u001b[0;34m]\u001b[0m\u001b[0;34m\u001b[0m\u001b[0;34m\u001b[0m\u001b[0m\n",
            "\u001b[0;31mValueError\u001b[0m: cannot reshape array of size 209 into shape (209,5)"
          ]
        }
      ],
      "source": [
        "# Reshape the training and test examples\n",
        "X_train_flatten = X_train.reshape(X_train.shape[0], -1).T\n",
        "X_test_flatten = X_test.reshape(X_test.shape[0], -1).T\n",
        "\n",
        "# Standardize data to have feature values between 0 and 1.\n",
        "X_train = X_train_flatten/255.\n",
        "X_test = X_test_flatten/255.\n",
        "# print(X_train.shape)\n",
        "layer_dims = [12288, 20, 7, 5, 1]\n",
        "\n",
        "parameters = nn_model(X_train, Y_train, layer_dims, learning_rate=1.2, iterations=10000, print_cost=True)"
      ]
    }
  ],
  "metadata": {
    "colab": {
      "provenance": []
    },
    "kernelspec": {
      "display_name": "Python 3",
      "name": "python3"
    },
    "language_info": {
      "name": "python"
    }
  },
  "nbformat": 4,
  "nbformat_minor": 0
}
